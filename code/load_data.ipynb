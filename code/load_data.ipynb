{
 "cells": [
  {
   "cell_type": "code",
   "execution_count": 1,
   "metadata": {},
   "outputs": [],
   "source": [
    "import boto3\n",
    "import pandas as pd\n",
    "from tqdm import tqdm\n",
    "import io"
   ]
  },
  {
   "cell_type": "code",
   "execution_count": 2,
   "metadata": {},
   "outputs": [],
   "source": [
    "bucket_name = '20240909-hikaru'\n",
    "key = \"TrainingData/2025_0506_2024_1031_CSH_10000_training_fx_0_0_25_fHB_0_01_1/DL_nImages10000.mat\"\n",
    "new_key='TrainingData/20241118_10000_training_withTBR_original/nImages10000_new.mat'\n",
    "test_key = \"TrainingData/2025_0506_2024_1031_CSH_10000_training_fx_0_0_25_fHB_0_01_1/Parameters.mat\""
   ]
  },
  {
   "cell_type": "code",
   "execution_count": null,
   "metadata": {},
   "outputs": [
    {
     "name": "stderr",
     "output_type": "stream",
     "text": [
      "Downloading:  43%|████▎     | 1.51G/3.49G [10:22<1:04:40, 511kB/s]"
     ]
    }
   ],
   "source": [
    "def stream_data_from_s3(bucket_name, key):\n",
    "    s3 = boto3.client('s3')\n",
    "\n",
    "    metadata = s3.head_object(Bucket=bucket_name, Key=key)\n",
    "    total_size = metadata['ContentLength']\n",
    "\n",
    "    response = s3.get_object(Bucket=bucket_name, Key=key)\n",
    "    stream = response['Body']\n",
    "\n",
    "    buffer = io.BytesIO()\n",
    "    with tqdm(total=total_size, unit='B', unit_scale=True, desc='Downloading') as pbar:\n",
    "        for chunk in iter(lambda: stream.read(1024 * 1024), b''):  # 1MB chunks\n",
    "            buffer.write(chunk)\n",
    "            pbar.update(len(chunk))\n",
    "\n",
    "    buffer.seek(0)\n",
    "    return buffer.read()\n",
    "\n",
    "byte_data = stream_data_from_s3(bucket_name, new_key)\n"
   ]
  }
 ],
 "metadata": {
  "kernelspec": {
   "display_name": "gtx",
   "language": "python",
   "name": "python3"
  },
  "language_info": {
   "codemirror_mode": {
    "name": "ipython",
    "version": 3
   },
   "file_extension": ".py",
   "mimetype": "text/x-python",
   "name": "python",
   "nbconvert_exporter": "python",
   "pygments_lexer": "ipython3",
   "version": "3.13.2"
  }
 },
 "nbformat": 4,
 "nbformat_minor": 2
}
