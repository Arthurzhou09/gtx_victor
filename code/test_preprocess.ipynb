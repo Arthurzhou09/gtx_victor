{
 "cells": [
  {
   "cell_type": "code",
   "execution_count": 21,
   "metadata": {},
   "outputs": [],
   "source": [
    "import numpy as np\n",
    "import mat73\n",
    "import os\n",
    "\n",
    "os.chdir('/home/victorh/projects/gtx')"
   ]
  },
  {
   "cell_type": "code",
   "execution_count": 22,
   "metadata": {},
   "outputs": [],
   "source": [
    "params = {\n",
    "    \"fluorescence\": 10**4,\n",
    "    \"reflectance\": 1,\n",
    "    \"depth\": 1,\n",
    "    \"mu_a\": 10,\n",
    "    \"mu_s\": 1,\n",
    "    \"concentration_fluor\": 1\n",
    "}"
   ]
  },
  {
   "cell_type": "code",
   "execution_count": 23,
   "metadata": {},
   "outputs": [],
   "source": [
    "def scale_data(data_dict, params):\n",
    "    scaled_data_dict = {}\n",
    "    for key, items in data_dict.items():\n",
    "        scaled_data_dict[key] = items * params[key]\n",
    "    return scaled_data_dict"
   ]
  },
  {
   "cell_type": "code",
   "execution_count": 24,
   "metadata": {},
   "outputs": [],
   "source": [
    "def normalization(fluorescence, optical_props):\n",
    "    f = (fluorescence - np.mean(fluorescence, axis=(1,2,3), keepdims=True)) / \\\n",
    "                   (np.std(fluorescence, axis=(1,2,3), keepdims=True) + 1e-6)\n",
    "    mu_a = optical_props[..., 0]\n",
    "    mu_s = optical_props[..., 1]\n",
    "\n",
    "    mu_a_mean = np.mean(mu_a, axis=(1,2), keepdims=True)\n",
    "    mu_a_std = np.std(mu_a, axis=(1,2), keepdims=True)\n",
    "    mu_a_norm = (mu_a - mu_a_mean) / (mu_a_std + 1e-6)\n",
    "\n",
    "    mu_s_mean = np.mean(mu_s, axis=(1,2), keepdims=True)\n",
    "    mu_s_std = np.std(mu_s, axis=(1,2), keepdims=True)\n",
    "    mu_s_norm = (mu_s - mu_s_mean) / (mu_s_std + 1e-6)\n",
    "    return f, mu_a_norm, mu_s_norm"
   ]
  },
  {
   "cell_type": "code",
   "execution_count": 25,
   "metadata": {},
   "outputs": [],
   "source": [
    "def load_data(file_path, scale_params):\n",
    "    data = mat73.loadmat(file_path)\n",
    "    fluorescence = data['F']    # FL → fluorescence\n",
    "    reflectance = data['RE']  # RE → radiance of the sample\n",
    "    depth = data['DF']          # DF → depth\n",
    "    optical_props = data['OP']  # OP → optical properties (μa, μs')\n",
    "    concentration_fluor = data['QF']  # QF → corrected fluorophore concentration\n",
    "\n",
    "    \n",
    "    f, mu_a_norm, mu_s_norm = normalization(fluorescence, optical_props)\n",
    "    scaled_data_dict = scale_data({\n",
    "        'fluorescence': f,\n",
    "        'reflectance': reflectance,\n",
    "        'depth': depth, \n",
    "        'mu_a': mu_a_norm,\n",
    "        'mu_s': mu_s_norm,\n",
    "        'concentration_fluor': concentration_fluor\n",
    "        }, scale_params)\n",
    "    \n",
    "    return scaled_data_dict\n"
   ]
  },
  {
   "cell_type": "code",
   "execution_count": 26,
   "metadata": {},
   "outputs": [],
   "source": [
    "data_dict = load_data(\"data/20250506_test_data.mat\", params)"
   ]
  },
  {
   "cell_type": "code",
   "execution_count": 27,
   "metadata": {},
   "outputs": [
    {
     "name": "stdout",
     "output_type": "stream",
     "text": [
      "(10000, 101, 101, 6)\n",
      "(10000, 101, 101, 6)\n",
      "(10000, 101, 101)\n",
      "(10000, 101, 101)\n",
      "(10000, 101, 101)\n",
      "(10000, 101, 101)\n"
     ]
    }
   ],
   "source": [
    "for key, value in data_dict.items():\n",
    "    print(value.shape)"
   ]
  }
 ],
 "metadata": {
  "kernelspec": {
   "display_name": "gtx",
   "language": "python",
   "name": "python3"
  },
  "language_info": {
   "codemirror_mode": {
    "name": "ipython",
    "version": 3
   },
   "file_extension": ".py",
   "mimetype": "text/x-python",
   "name": "python",
   "nbconvert_exporter": "python",
   "pygments_lexer": "ipython3",
   "version": "3.13.2"
  }
 },
 "nbformat": 4,
 "nbformat_minor": 2
}
