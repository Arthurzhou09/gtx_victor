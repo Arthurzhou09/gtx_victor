{
 "cells": [
  {
   "cell_type": "code",
   "execution_count": 1,
   "metadata": {},
   "outputs": [],
   "source": [
    "import os\n",
    "os.chdir('/home/victorhuang/projects/gtx/')\n",
    "\n",
    "import numpy as np\n",
    "import torch\n",
    "\n",
    "from kan import *\n",
    "from code_kan.kan_preprocess import load_data\n"
   ]
  },
  {
   "cell_type": "code",
   "execution_count": 2,
   "metadata": {},
   "outputs": [
    {
     "name": "stdout",
     "output_type": "stream",
     "text": [
      "PyTorch version: 2.2.2+cu121\n",
      "CUDA available: True\n",
      "Number of GPUs: 1\n",
      "\n",
      "GPU 0:\n",
      "  Name: NVIDIA GeForce RTX 4070 Laptop GPU\n",
      "  Memory Allocated: 0.0 MB\n",
      "  Memory Cached: 0.0 MB\n",
      "  Capability: (8, 9)\n",
      "  Current Device: 0\n"
     ]
    }
   ],
   "source": [
    "print(\"PyTorch version:\", torch.__version__)\n",
    "print(\"CUDA available:\", torch.cuda.is_available())\n",
    "\n",
    "if torch.cuda.is_available():\n",
    "    print(\"Number of GPUs:\", torch.cuda.device_count())\n",
    "    for i in range(torch.cuda.device_count()):\n",
    "        print(f\"\\nGPU {i}:\")\n",
    "        print(\"  Name:\", torch.cuda.get_device_name(i))\n",
    "        print(\"  Memory Allocated:\", round(torch.cuda.memory_allocated(i) / 1024**2, 2), \"MB\")\n",
    "        print(\"  Memory Cached:\", round(torch.cuda.memory_reserved(i) / 1024**2, 2), \"MB\")\n",
    "        print(\"  Capability:\", torch.cuda.get_device_capability(i))\n",
    "        print(\"  Current Device:\", torch.cuda.current_device())\n",
    "else:\n",
    "    print(\"No GPU available.\")"
   ]
  },
  {
   "cell_type": "markdown",
   "metadata": {},
   "source": [
    "# load data"
   ]
  },
  {
   "cell_type": "code",
   "execution_count": 3,
   "metadata": {},
   "outputs": [],
   "source": [
    "dt_data_path = 'data/20241118_data_splited.mat'\n",
    "data = load_data(dt_data_path, data_type='dt')\n",
    "\n",
    "train_data = data['train']\n",
    "train_fluorescence = train_data['fluorescence']\n",
    "train_op = train_data['op']\n",
    "train_depth = train_data['depth']\n",
    "train_concentration_fluor = train_data['concentration_fluor']\n",
    "train_reflectance = train_data['reflectance']\n",
    "\n",
    "val_data = data['val']\n",
    "val_fluorescence = val_data['fluorescence']\n",
    "val_op = val_data['op']\n",
    "val_depth = val_data['depth']\n",
    "val_concentration_fluor = val_data['concentration_fluor']\n",
    "val_reflectance = val_data['reflectance']\n",
    "\n",
    "test_data = data['test']\n",
    "test_fluorescence = test_data['fluorescence']\n",
    "test_op = test_data['op']\n",
    "test_depth = test_data['depth']\n",
    "test_concentration_fluor = test_data['concentration_fluor']\n",
    "test_reflectance = test_data['reflectance']\n"
   ]
  },
  {
   "cell_type": "markdown",
   "metadata": {},
   "source": [
    "# KAN"
   ]
  }
 ],
 "metadata": {
  "kernelspec": {
   "display_name": "pk",
   "language": "python",
   "name": "python3"
  },
  "language_info": {
   "codemirror_mode": {
    "name": "ipython",
    "version": 3
   },
   "file_extension": ".py",
   "mimetype": "text/x-python",
   "name": "python",
   "nbconvert_exporter": "python",
   "pygments_lexer": "ipython3",
   "version": "3.9.7"
  }
 },
 "nbformat": 4,
 "nbformat_minor": 2
}
