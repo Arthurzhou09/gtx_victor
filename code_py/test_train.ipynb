{
 "cells": [
  {
   "cell_type": "code",
   "execution_count": 1,
   "metadata": {},
   "outputs": [],
   "source": [
    "import argparse\n",
    "import numpy as np\n",
    "import torch\n",
    "from torch.utils.data import DataLoader, TensorDataset, random_split\n",
    "from torch.optim.lr_scheduler import ReduceLROnPlateau\n",
    "from tqdm import tqdm\n",
    "from torchinfo import summary\n",
    "\n",
    "from model.unet import UnetModel\n"
   ]
  },
  {
   "cell_type": "code",
   "execution_count": 2,
   "metadata": {},
   "outputs": [
    {
     "name": "stdout",
     "output_type": "stream",
     "text": [
      "PyTorch version: 2.7.0+cu128\n",
      "CUDA available: True\n",
      "Number of GPUs: 1\n",
      "\n",
      "GPU 0:\n",
      "  Name: NVIDIA GeForce RTX 5090\n",
      "  Memory Allocated: 0.0 MB\n",
      "  Memory Cached: 0.0 MB\n",
      "  Capability: (12, 0)\n",
      "  Current Device: 0\n"
     ]
    }
   ],
   "source": [
    "print(\"PyTorch version:\", torch.__version__)\n",
    "print(\"CUDA available:\", torch.cuda.is_available())\n",
    "\n",
    "if torch.cuda.is_available():\n",
    "    print(\"Number of GPUs:\", torch.cuda.device_count())\n",
    "    for i in range(torch.cuda.device_count()):\n",
    "        print(f\"\\nGPU {i}:\")\n",
    "        print(\"  Name:\", torch.cuda.get_device_name(i))\n",
    "        print(\"  Memory Allocated:\", round(torch.cuda.memory_allocated(i) / 1024**2, 2), \"MB\")\n",
    "        print(\"  Memory Cached:\", round(torch.cuda.memory_reserved(i) / 1024**2, 2), \"MB\")\n",
    "        print(\"  Capability:\", torch.cuda.get_device_capability(i))\n",
    "        print(\"  Current Device:\", torch.cuda.current_device())\n",
    "else:\n",
    "    print(\"No GPU available.\")"
   ]
  },
  {
   "cell_type": "code",
   "execution_count": null,
   "metadata": {},
   "outputs": [],
   "source": [
    "params = {\n",
    "    'activation': 'relu',\n",
    "    'optimizer': 'Adam',\n",
    "    'epochs': 100,\n",
    "    'nF': 6,\n",
    "    'learningRate': 5e-4,\n",
    "    'batch': 32,\n",
    "    'xX': 101,\n",
    "    'yY': 101,\n",
    "    'decayRate': 0.3,\n",
    "    'patience': 20,\n",
    "    'scaleFL': 10e4,\n",
    "    'scaleOP0': 10,\n",
    "    'scaleOP1': 1,\n",
    "    'scaleDF': 1,\n",
    "    'scaleQF': 1,\n",
    "    'scaleRE': 1,\n",
    "    'nFilters3D': 128,\n",
    "    'kernelConv3D': [3,3,3],\n",
    "    'strideConv3D': [1,1,1],\n",
    "    'nFilters2D': 128,\n",
    "    'kernelConv2D': [3,3],\n",
    "    'strideConv2D': [1,1],\n",
    "    'data_path': 'data/'\n",
    "}\n",
    "\n",
    "model = UnetModel(params)\n",
    "summary(model, \n",
    "        input_size=[(20,2,101,101), (20, 1, 6, 101, 101)])\n"
   ]
  }
 ],
 "metadata": {
  "kernelspec": {
   "display_name": "gtx",
   "language": "python",
   "name": "python3"
  },
  "language_info": {
   "codemirror_mode": {
    "name": "ipython",
    "version": 3
   },
   "file_extension": ".py",
   "mimetype": "text/x-python",
   "name": "python",
   "nbconvert_exporter": "python",
   "pygments_lexer": "ipython3",
   "version": "3.13.2"
  }
 },
 "nbformat": 4,
 "nbformat_minor": 2
}
