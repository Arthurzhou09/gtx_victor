{
 "cells": [
  {
   "cell_type": "code",
   "execution_count": 1,
   "id": "bee854af",
   "metadata": {},
   "outputs": [],
   "source": [
    "import os\n",
    "os.environ['TF_CPP_MIN_LOG_LEVEL'] = '3'\n",
    "from tensorflow.keras.models import Model\n",
    "from tensorflow.keras.layers import Input, concatenate, Conv2D, Conv3D, Reshape, Dropout, MaxPool2D,UpSampling2D, ZeroPadding2D, Activation, Permute\n",
    "from tensorflow.keras import metrics\n",
    "from tensorflow.keras.saving import register_keras_serializable\n",
    "from tensorflow.keras.models import load_model\n",
    "import tensorflow as tf\n",
    "from model.model import *"
   ]
  },
  {
   "cell_type": "code",
   "execution_count": null,
   "id": "6e4fd54d",
   "metadata": {},
   "outputs": [],
   "source": [
    "import tensorflow as tf\n",
    "import numpy as np\n",
    "\n",
    "# 1) Load the SavedModel\n",
    "loaded = tf.saved_model.load(\"aws_ckpt/model_ckpt\")\n",
    "\n",
    "# 2) Grab the inference function\n",
    "infer = loaded.signatures[\"serving_default\"]\n",
    "\n",
    "# 3) Prepare your inputs as tensors\n",
    "input_1 = tf.constant(np.ones((1, 101, 101, 2), dtype=np.float32))\n",
    "input_2 = tf.constant(np.ones((1, 101, 101, 6, 1), dtype=np.float32))\n",
    "\n",
    "# 4) Call the signature with named arguments\n",
    "outputs = infer(input_1=input_1, input_2=input_2)\n",
    "\n",
    "# 5) Inspect the outputs\n",
    "print(outputs)              # a dict mapping output names → tensors\n",
    "print(outputs[\"output_0\"].shape, outputs[\"output_1\"].shape)\n",
    "\n"
   ]
  }
 ],
 "metadata": {
  "kernelspec": {
   "display_name": "gtx_tf",
   "language": "python",
   "name": "python3"
  },
  "language_info": {
   "codemirror_mode": {
    "name": "ipython",
    "version": 3
   },
   "file_extension": ".py",
   "mimetype": "text/x-python",
   "name": "python",
   "nbconvert_exporter": "python",
   "pygments_lexer": "ipython3",
   "version": "3.10.16"
  }
 },
 "nbformat": 4,
 "nbformat_minor": 5
}
