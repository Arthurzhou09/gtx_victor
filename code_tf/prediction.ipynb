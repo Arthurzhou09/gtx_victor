{
 "cells": [
  {
   "cell_type": "code",
   "execution_count": 3,
   "id": "fd89e346",
   "metadata": {},
   "outputs": [],
   "source": [
    "import warnings\n",
    "warnings.filterwarnings(\"ignore\", category=UserWarning, module=\"google.protobuf\")\n"
   ]
  },
  {
   "cell_type": "code",
   "execution_count": 4,
   "id": "69721481",
   "metadata": {},
   "outputs": [],
   "source": [
    "import os\n",
    "import sys\n",
    "os.chdir('/home/victorhuang/projects/gtx')\n",
    "os.environ.pop(\"LD_LIBRARY_PATH\", None)\n",
    "os.environ['TF_CPP_MIN_LOG_LEVEL'] = '3'\n"
   ]
  },
  {
   "cell_type": "code",
   "execution_count": 5,
   "id": "ae318b00",
   "metadata": {},
   "outputs": [
    {
     "name": "stdout",
     "output_type": "stream",
     "text": [
      "True\n",
      "[PhysicalDevice(name='/physical_device:GPU:0', device_type='GPU')]\n"
     ]
    }
   ],
   "source": [
    "import tensorflow as tf\n",
    "print(tf.test.is_built_with_cuda())\n",
    "print(tf.config.list_physical_devices(\"GPU\"))\n"
   ]
  },
  {
   "cell_type": "code",
   "execution_count": 6,
   "id": "380c9673",
   "metadata": {},
   "outputs": [],
   "source": [
    "import scipy.io as sio\n",
    "import mat73\n",
    "import numpy as np\n",
    "import matplotlib.pyplot as plt"
   ]
  },
  {
   "cell_type": "code",
   "execution_count": 7,
   "id": "22abde79",
   "metadata": {},
   "outputs": [],
   "source": [
    "import keras\n",
    "import tensorflow as tf\n",
    "from keras.saving import register_keras_serializable"
   ]
  },
  {
   "cell_type": "code",
   "execution_count": 8,
   "id": "956cbccf",
   "metadata": {},
   "outputs": [
    {
     "name": "stdout",
     "output_type": "stream",
     "text": [
      "Python: /home/victorhuang/miniconda3/envs/gtx_tf/bin/python\n",
      "TF version: 2.20.0\n",
      "CUDA built with: 12.5.1\n",
      "cuDNN built with: 9\n"
     ]
    }
   ],
   "source": [
    "print(\"Python:\", sys.executable)\n",
    "print(\"TF version:\", tf.__version__)\n",
    "print(\"CUDA built with:\", tf.sysconfig.get_build_info().get(\"cuda_version\"))\n",
    "print(\"cuDNN built with:\", tf.sysconfig.get_build_info().get(\"cudnn_version\"))"
   ]
  },
  {
   "cell_type": "code",
   "execution_count": 9,
   "id": "23e5d389",
   "metadata": {},
   "outputs": [
    {
     "name": "stdout",
     "output_type": "stream",
     "text": [
      "[PhysicalDevice(name='/physical_device:GPU:0', device_type='GPU')]\n"
     ]
    }
   ],
   "source": [
    "gpus = tf.config.list_physical_devices('GPU')\n",
    "if gpus:\n",
    "    try:\n",
    "        print(gpus)\n",
    "        tf.config.set_visible_devices(gpus[0], 'GPU')\n",
    "        tf.config.experimental.set_memory_growth(gpus[0], True)\n",
    "    except RuntimeError as e:\n",
    "        print(e)"
   ]
  },
  {
   "cell_type": "markdown",
   "id": "1afbf8de",
   "metadata": {},
   "source": [
    "# Model"
   ]
  },
  {
   "cell_type": "markdown",
   "id": "1a15e9a9",
   "metadata": {},
   "source": [
    "## unzip model"
   ]
  },
  {
   "cell_type": "code",
   "execution_count": 4,
   "id": "ed70c240",
   "metadata": {},
   "outputs": [
    {
     "name": "stdout",
     "output_type": "stream",
     "text": [
      "tar: Ignoring unknown extended header keyword 'LIBARCHIVE.creationtime'\n",
      "loss.log\n",
      "tar: Ignoring unknown extended header keyword 'LIBARCHIVE.creationtime'\n",
      "model.keras\n"
     ]
    }
   ],
   "source": [
    "!tar -xvzf code_tf/aws_ckpt/8000_1024_mix_unet/model.tar.gz -C code_tf/aws_ckpt/8000_1024_mix_unet/"
   ]
  },
  {
   "cell_type": "markdown",
   "id": "40a5536a",
   "metadata": {},
   "source": [
    "## test model"
   ]
  },
  {
   "cell_type": "code",
   "execution_count": 11,
   "id": "92f6fcac",
   "metadata": {},
   "outputs": [],
   "source": [
    "@register_keras_serializable(package=\"custom\")\n",
    "def tumor_mae(y_true, y_pred):\n",
    "    mask = tf.not_equal(y_true, 0.0)\n",
    "    err  = tf.abs(y_true - y_pred)\n",
    "    masked_err = tf.boolean_mask(err, mask)\n",
    "    return tf.cond(tf.size(masked_err) > 0,\n",
    "                   lambda: tf.reduce_mean(masked_err),\n",
    "                   lambda: tf.constant(0.0, dtype=y_true.dtype))"
   ]
  },
  {
   "cell_type": "code",
   "execution_count": 12,
   "id": "366a57b4",
   "metadata": {},
   "outputs": [
    {
     "name": "stderr",
     "output_type": "stream",
     "text": [
      "WARNING: All log messages before absl::InitializeLog() is called are written to STDERR\n",
      "I0000 00:00:1758125854.551841    4594 gpu_device.cc:2020] Created device /job:localhost/replica:0/task:0/device:GPU:0 with 5520 MB memory:  -> device: 0, name: NVIDIA GeForce RTX 4070 Laptop GPU, pci bus id: 0000:01:00.0, compute capability: 8.9\n"
     ]
    },
    {
     "name": "stdout",
     "output_type": "stream",
     "text": [
      "(1, 101, 101)\n",
      "(1, 101, 101)\n"
     ]
    }
   ],
   "source": [
    "model = keras.models.load_model(\"code_tf/aws_ckpt/8000_1024_mix_unet/model.keras\", safe_mode=True)\n",
    "\n",
    "input_1 = tf.constant(np.ones((1, 101, 101, 2), dtype=np.float32))\n",
    "input_2 = tf.constant(np.ones((1, 101, 101, 6, 1), dtype=np.float32))\n",
    "\n",
    "output = model([input_1, input_2], training=False)\n",
    "\n",
    "print(output[0].shape)\n",
    "print(output[1].shape)"
   ]
  }
 ],
 "metadata": {
  "kernelspec": {
   "display_name": "gtx_tf",
   "language": "python",
   "name": "python3"
  },
  "language_info": {
   "codemirror_mode": {
    "name": "ipython",
    "version": 3
   },
   "file_extension": ".py",
   "mimetype": "text/x-python",
   "name": "python",
   "nbconvert_exporter": "python",
   "pygments_lexer": "ipython3",
   "version": "3.10.16"
  }
 },
 "nbformat": 4,
 "nbformat_minor": 5
}
