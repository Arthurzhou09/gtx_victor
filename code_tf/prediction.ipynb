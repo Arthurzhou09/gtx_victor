{
 "cells": [
  {
   "cell_type": "code",
   "execution_count": 1,
   "id": "BB7X4wysRjZW",
   "metadata": {
    "colab": {
     "base_uri": "https://localhost:8080/"
    },
    "executionInfo": {
     "elapsed": 3995,
     "status": "ok",
     "timestamp": 1758140136482,
     "user": {
      "displayName": "Victor Huang",
      "userId": "04633402498328162113"
     },
     "user_tz": 240
    },
    "id": "BB7X4wysRjZW",
    "outputId": "a62f3427-1c99-4184-e78f-faf06d068392"
   },
   "outputs": [
    {
     "name": "stdout",
     "output_type": "stream",
     "text": [
      "Requirement already satisfied: mat73 in /usr/local/lib/python3.12/dist-packages (0.65)\n",
      "Requirement already satisfied: h5py in /usr/local/lib/python3.12/dist-packages (from mat73) (3.14.0)\n",
      "Requirement already satisfied: numpy in /usr/local/lib/python3.12/dist-packages (from mat73) (2.0.2)\n"
     ]
    }
   ],
   "source": [
    "!pip install mat73"
   ]
  },
  {
   "cell_type": "code",
   "execution_count": 2,
   "id": "jW8NqkUtRiGN",
   "metadata": {
    "colab": {
     "base_uri": "https://localhost:8080/"
    },
    "executionInfo": {
     "elapsed": 3357,
     "status": "ok",
     "timestamp": 1758140139840,
     "user": {
      "displayName": "Victor Huang",
      "userId": "04633402498328162113"
     },
     "user_tz": 240
    },
    "id": "jW8NqkUtRiGN",
    "outputId": "a14f8002-dd1e-4a03-f1a7-c23b86b262cb"
   },
   "outputs": [
    {
     "name": "stdout",
     "output_type": "stream",
     "text": [
      "Mounted at /content/drive\n"
     ]
    }
   ],
   "source": [
    "from google.colab import drive\n",
    "drive.mount('/content/drive', force_remount=True)\n",
    "import sys\n",
    "sys.path.append('/content/drive/MyDrive/GTxPython')"
   ]
  },
  {
   "cell_type": "code",
   "execution_count": 3,
   "id": "fd89e346",
   "metadata": {
    "executionInfo": {
     "elapsed": 1,
     "status": "ok",
     "timestamp": 1758140139850,
     "user": {
      "displayName": "Victor Huang",
      "userId": "04633402498328162113"
     },
     "user_tz": 240
    },
    "id": "fd89e346"
   },
   "outputs": [],
   "source": [
    "import warnings\n",
    "warnings.filterwarnings(\"ignore\", category=UserWarning, module=\"google.protobuf\")"
   ]
  },
  {
   "cell_type": "code",
   "execution_count": 4,
   "id": "69721481",
   "metadata": {
    "executionInfo": {
     "elapsed": 10,
     "status": "ok",
     "timestamp": 1758140139862,
     "user": {
      "displayName": "Victor Huang",
      "userId": "04633402498328162113"
     },
     "user_tz": 240
    },
    "id": "69721481"
   },
   "outputs": [],
   "source": [
    "import os\n",
    "import sys\n",
    "os.chdir('/content/drive/MyDrive/GTxPython')\n",
    "os.environ.pop(\"LD_LIBRARY_PATH\", None)\n",
    "os.environ['TF_CPP_MIN_LOG_LEVEL'] = '3'\n"
   ]
  },
  {
   "cell_type": "code",
   "execution_count": 5,
   "id": "ae318b00",
   "metadata": {
    "colab": {
     "base_uri": "https://localhost:8080/"
    },
    "executionInfo": {
     "elapsed": 3735,
     "status": "ok",
     "timestamp": 1758140143598,
     "user": {
      "displayName": "Victor Huang",
      "userId": "04633402498328162113"
     },
     "user_tz": 240
    },
    "id": "ae318b00",
    "outputId": "620b2779-f236-4ed3-f884-0d1ae60a12eb"
   },
   "outputs": [
    {
     "name": "stdout",
     "output_type": "stream",
     "text": [
      "True\n",
      "[PhysicalDevice(name='/physical_device:GPU:0', device_type='GPU')]\n"
     ]
    }
   ],
   "source": [
    "import tensorflow as tf\n",
    "print(tf.test.is_built_with_cuda())\n",
    "print(tf.config.list_physical_devices(\"GPU\"))\n"
   ]
  },
  {
   "cell_type": "code",
   "execution_count": 6,
   "id": "380c9673",
   "metadata": {
    "executionInfo": {
     "elapsed": 222,
     "status": "ok",
     "timestamp": 1758140143817,
     "user": {
      "displayName": "Victor Huang",
      "userId": "04633402498328162113"
     },
     "user_tz": 240
    },
    "id": "380c9673"
   },
   "outputs": [],
   "source": [
    "import scipy.io as sio\n",
    "import mat73\n",
    "import numpy as np\n",
    "import matplotlib.pyplot as plt\n",
    "from tqdm import tqdm"
   ]
  },
  {
   "cell_type": "code",
   "execution_count": 7,
   "id": "22abde79",
   "metadata": {
    "executionInfo": {
     "elapsed": 59,
     "status": "ok",
     "timestamp": 1758140143870,
     "user": {
      "displayName": "Victor Huang",
      "userId": "04633402498328162113"
     },
     "user_tz": 240
    },
    "id": "22abde79"
   },
   "outputs": [],
   "source": [
    "import keras\n",
    "import tensorflow as tf\n",
    "from keras.saving import register_keras_serializable"
   ]
  },
  {
   "cell_type": "code",
   "execution_count": 8,
   "id": "733eb243",
   "metadata": {
    "executionInfo": {
     "elapsed": 1,
     "status": "ok",
     "timestamp": 1758140143873,
     "user": {
      "displayName": "Victor Huang",
      "userId": "04633402498328162113"
     },
     "user_tz": 240
    },
    "id": "733eb243"
   },
   "outputs": [],
   "source": [
    "from code_tf.preprocess import *"
   ]
  },
  {
   "cell_type": "code",
   "execution_count": 9,
   "id": "956cbccf",
   "metadata": {
    "colab": {
     "base_uri": "https://localhost:8080/"
    },
    "executionInfo": {
     "elapsed": 7,
     "status": "ok",
     "timestamp": 1758140143880,
     "user": {
      "displayName": "Victor Huang",
      "userId": "04633402498328162113"
     },
     "user_tz": 240
    },
    "id": "956cbccf",
    "outputId": "5964ccd5-72f7-41be-9598-b2fe26bcb3ce"
   },
   "outputs": [
    {
     "name": "stdout",
     "output_type": "stream",
     "text": [
      "Python: /usr/bin/python3\n",
      "TF version: 2.19.0\n",
      "CUDA built with: 12.5.1\n",
      "cuDNN built with: 9\n"
     ]
    }
   ],
   "source": [
    "print(\"Python:\", sys.executable)\n",
    "print(\"TF version:\", tf.__version__)\n",
    "print(\"CUDA built with:\", tf.sysconfig.get_build_info().get(\"cuda_version\"))\n",
    "print(\"cuDNN built with:\", tf.sysconfig.get_build_info().get(\"cudnn_version\"))"
   ]
  },
  {
   "cell_type": "code",
   "execution_count": 10,
   "id": "23e5d389",
   "metadata": {
    "colab": {
     "base_uri": "https://localhost:8080/"
    },
    "executionInfo": {
     "elapsed": 7,
     "status": "ok",
     "timestamp": 1758140143887,
     "user": {
      "displayName": "Victor Huang",
      "userId": "04633402498328162113"
     },
     "user_tz": 240
    },
    "id": "23e5d389",
    "outputId": "44faa859-0287-4ec9-da0a-5c0b72c74548"
   },
   "outputs": [
    {
     "name": "stdout",
     "output_type": "stream",
     "text": [
      "[PhysicalDevice(name='/physical_device:GPU:0', device_type='GPU')]\n"
     ]
    }
   ],
   "source": [
    "gpus = tf.config.list_physical_devices('GPU')\n",
    "if gpus:\n",
    "    try:\n",
    "        print(gpus)\n",
    "        tf.config.set_visible_devices(gpus[0], 'GPU')\n",
    "        tf.config.experimental.set_memory_growth(gpus[0], True)\n",
    "    except RuntimeError as e:\n",
    "        print(e)"
   ]
  },
  {
   "cell_type": "markdown",
   "id": "1afbf8de",
   "metadata": {
    "id": "1afbf8de"
   },
   "source": [
    "# Model"
   ]
  },
  {
   "cell_type": "markdown",
   "id": "1a15e9a9",
   "metadata": {
    "id": "1a15e9a9"
   },
   "source": [
    "## unzip model"
   ]
  },
  {
   "cell_type": "code",
   "execution_count": 11,
   "id": "ed70c240",
   "metadata": {
    "executionInfo": {
     "elapsed": 0,
     "status": "ok",
     "timestamp": 1758140143888,
     "user": {
      "displayName": "Victor Huang",
      "userId": "04633402498328162113"
     },
     "user_tz": 240
    },
    "id": "ed70c240"
   },
   "outputs": [],
   "source": [
    "# !tar -xvzf code_tf/aws_ckpt/8000_1024_unet_2d_TBR/model.tar.gz -C code_tf/aws_ckpt/8000_1024_unet_2d_TBR/"
   ]
  },
  {
   "cell_type": "markdown",
   "id": "40a5536a",
   "metadata": {
    "id": "40a5536a"
   },
   "source": [
    "## test model"
   ]
  },
  {
   "cell_type": "code",
   "execution_count": 12,
   "id": "92f6fcac",
   "metadata": {
    "executionInfo": {
     "elapsed": 1,
     "status": "ok",
     "timestamp": 1758140143898,
     "user": {
      "displayName": "Victor Huang",
      "userId": "04633402498328162113"
     },
     "user_tz": 240
    },
    "id": "92f6fcac"
   },
   "outputs": [],
   "source": [
    "@register_keras_serializable(package=\"custom\")\n",
    "def tumor_mae(y_true, y_pred):\n",
    "    mask = tf.not_equal(y_true, 0.0)\n",
    "    err  = tf.abs(y_true - y_pred)\n",
    "    masked_err = tf.boolean_mask(err, mask)\n",
    "    return tf.cond(tf.size(masked_err) > 0,\n",
    "                   lambda: tf.reduce_mean(masked_err),\n",
    "                   lambda: tf.constant(0.0, dtype=y_true.dtype))"
   ]
  },
  {
   "cell_type": "code",
   "execution_count": 13,
   "id": "366a57b4",
   "metadata": {
    "colab": {
     "base_uri": "https://localhost:8080/"
    },
    "executionInfo": {
     "elapsed": 4940,
     "status": "ok",
     "timestamp": 1758140148844,
     "user": {
      "displayName": "Victor Huang",
      "userId": "04633402498328162113"
     },
     "user_tz": 240
    },
    "id": "366a57b4",
    "outputId": "0bcfa7dd-6b02-4076-8bf0-971f49165b78"
   },
   "outputs": [
    {
     "name": "stdout",
     "output_type": "stream",
     "text": [
      "(1, 101, 101)\n",
      "(1, 101, 101)\n"
     ]
    }
   ],
   "source": [
    "model = keras.models.load_model(\"/content/drive/MyDrive/GTxPython/ckpt_unet/8000_1024_unet_2d_TBR/model.keras\", safe_mode=True)\n",
    "\n",
    "input_1 = tf.constant(np.ones((1, 101, 101, 2), dtype=np.float32))\n",
    "input_2 = tf.constant(np.ones((1, 101, 101, 6, 1), dtype=np.float32))\n",
    "\n",
    "output = model([input_1, input_2], training=False)\n",
    "\n",
    "print(output[0].shape)\n",
    "print(output[1].shape)"
   ]
  },
  {
   "cell_type": "markdown",
   "id": "12872817",
   "metadata": {
    "id": "12872817"
   },
   "source": [
    "# Prediction"
   ]
  },
  {
   "cell_type": "code",
   "execution_count": 14,
   "id": "e6f0cb42",
   "metadata": {
    "executionInfo": {
     "elapsed": 14,
     "status": "ok",
     "timestamp": 1758140148861,
     "user": {
      "displayName": "Victor Huang",
      "userId": "04633402498328162113"
     },
     "user_tz": 240
    },
    "id": "e6f0cb42"
   },
   "outputs": [],
   "source": [
    "def draw_pred(gt_depth, pred_depth):\n",
    "  fig, ax = plt.subplots(1, 3, figsize=(15, 5))\n",
    "  v_min = min(np.min(gt_depth), np.min(pred_depth))\n",
    "  v_max = max(np.max(gt_depth), np.max(pred_depth))\n",
    "  im0 = ax[0].imshow(gt_depth, cmap='viridis', vmin=v_min, vmax=v_max)\n",
    "  ax[0].set_title('Ground Truth')\n",
    "  ax[1].imshow(pred_depth, cmap='viridis', vmin=v_min, vmax=v_max)\n",
    "  ax[1].set_title('Prediction')\n",
    "  im2 = ax[2].imshow(gt_depth - pred_depth, cmap='Purples')\n",
    "  ax[2].set_title('Difference')\n",
    "  cbar = fig.colorbar(im0, ax=ax[0:2], orientation='vertical')\n",
    "  cbar.set_label('Depth')\n",
    "  cbar_err = fig.colorbar(im2, ax=ax[2], orientation='vertical')\n",
    "  cbar_err.set_label('Error')\n",
    "  plt.show()"
   ]
  },
  {
   "cell_type": "code",
   "execution_count": null,
   "id": "8FVEFsQ4dLTO",
   "metadata": {
    "id": "8FVEFsQ4dLTO"
   },
   "outputs": [],
   "source": [
    "import numpy as np\n",
    "import tensorflow as tf\n",
    "from tqdm import tqdm\n",
    "\n",
    "def calculate_unet_depth(\n",
    "    model, data, mm=None, draw=False, p=False, device=\"auto\", batch=8\n",
    "):\n",
    "    \"\"\"\n",
    "    Batched + GPU-ready evaluation of your UNet depth head.\n",
    "\n",
    "    Args\n",
    "    ----\n",
    "    model : tf.keras.Model\n",
    "        Takes [op_batch, fl_batch] and returns [pred_conc, pred_depth].\n",
    "    data : dict\n",
    "        data['test'] with keys: 'mu_a','mu_s','fluorescence','depth'\n",
    "        Shapes typically:\n",
    "          mu_a, mu_s: (N, H, W)\n",
    "          fluorescence: (N, H, W, 6)\n",
    "          depth: (N, H, W)\n",
    "    mm : int | None\n",
    "        If provided, keeps only indices i where i % 4 == (mm/2 - 1)\n",
    "    draw : bool\n",
    "        If True, calls draw_pred(GT, P) per example.\n",
    "    p : bool\n",
    "        If True, prints extra per-metric means.\n",
    "    device : {\"auto\", \"cpu\", \"gpu\", \"/CPU:0\", \"/GPU:0\"}\n",
    "        Where to run inference. \"auto\" -> GPU if available else CPU.\n",
    "    batch : int\n",
    "        Batch size for inference.\n",
    "    \"\"\"\n",
    "    test_data = data[\"test\"]\n",
    "\n",
    "    # ---------- helpers ----------\n",
    "    def masked_argmin_2d(A, M):\n",
    "        rr, cc = np.where(M)\n",
    "        if rr.size == 0:\n",
    "            return None\n",
    "        k = int(np.argmin(A[rr, cc]))\n",
    "        return int(rr[k]), int(cc[k])\n",
    "\n",
    "    # ---------- choose device ----------\n",
    "    if device == \"auto\":\n",
    "        device_str = \"/GPU:0\" if tf.config.list_physical_devices(\"GPU\") else \"/CPU:0\"\n",
    "    elif device.lower() == \"gpu\":\n",
    "        device_str = \"/GPU:0\"\n",
    "    elif device.lower() == \"cpu\":\n",
    "        device_str = \"/CPU:0\"\n",
    "    else:\n",
    "        device_str = device  # allow explicit \"/GPU:1\", etc.\n",
    "\n",
    "    # Optional: enable memory growth to avoid TF pre-allocating all VRAM\n",
    "    try:\n",
    "        gpus = tf.config.experimental.list_physical_devices('GPU')\n",
    "        for g in gpus:\n",
    "            tf.config.experimental.set_memory_growth(g, True)\n",
    "    except Exception:\n",
    "        pass\n",
    "\n",
    "    # ---------- build evaluation index set ----------\n",
    "    N = len(test_data[\"depth\"])\n",
    "    if mm is not None:\n",
    "        d = int(mm / 2) - 1\n",
    "        idx_all = [i for i in range(N) if i % 4 == d]\n",
    "    else:\n",
    "        idx_all = list(range(N))\n",
    "\n",
    "    if len(idx_all) == 0:\n",
    "        print(\"No test indices after filtering. Nothing to evaluate.\")\n",
    "        return {\n",
    "            \"total_mae\": np.nan,\n",
    "            \"mean_min_gt_resid\": np.nan,\n",
    "            \"mean_min_pred_resid\": np.nan,\n",
    "            \"mean_min_diff\": np.nan,\n",
    "            \"mean_min_dist\": np.nan,\n",
    "        }\n",
    "\n",
    "    # ---------- precompute OP tensor shape ----------\n",
    "    # OP: stack(mu_a, mu_s) -> (N, 2, H, W) then transpose to (N, H, W, 2)\n",
    "    mu_a = test_data[\"mu_a\"]\n",
    "    mu_s = test_data[\"mu_s\"]\n",
    "    op_all = np.stack([mu_a, mu_s], axis=1).transpose(0, 2, 3, 1)  # (N, H, W, 2)\n",
    "\n",
    "    # Fluorescence: (N, H, W, 6) -> add channel dim -> (N, H, W, 6, 1)\n",
    "    fl_all = test_data[\"fluorescence\"]\n",
    "    if fl_all.ndim == 4:\n",
    "        fl_all = fl_all[..., np.newaxis]  # add channel last\n",
    "\n",
    "    # GT depth: (N, H, W)\n",
    "    depth_all = test_data[\"depth\"].copy()\n",
    "    depth_all[depth_all == 0] = 1000\n",
    "\n",
    "\n",
    "    # ---------- accumulators ----------\n",
    "    count = 0\n",
    "    error = 0.0\n",
    "    gt_depth = []\n",
    "    pred_depth = []\n",
    "    diff = []\n",
    "    distance = []\n",
    "\n",
    "    # ---------- batched inference ----------\n",
    "    with tf.device(device_str):\n",
    "        for b_start in tqdm(range(0, len(idx_all), batch)):\n",
    "            b_end = min(b_start + batch, len(idx_all))\n",
    "            batch_idx = idx_all[b_start:b_end]\n",
    "\n",
    "            # Build batch inputs\n",
    "            op_batch = op_all[batch_idx]               # (B, H, W, 2)\n",
    "            fl_batch = fl_all[batch_idx]               # (B, H, W, 6, 1)\n",
    "            gt_batch = depth_all[batch_idx]            # (B, H, W)\n",
    "\n",
    "            # Convert to tensors\n",
    "            input_1 = tf.convert_to_tensor(op_batch, dtype=tf.float32)\n",
    "            input_2 = tf.convert_to_tensor(fl_batch, dtype=tf.float32)\n",
    "\n",
    "            # Model forward pass (no gradients)\n",
    "            outputs = model([input_1, input_2], training=False)\n",
    "            # outputs: [pred_conc, pred_depth]\n",
    "            pred_conc_b = outputs[0].numpy()  # (B, H, W) — not used below\n",
    "            pred_depth_b = outputs[1].numpy() # (B, H, W)\n",
    "\n",
    "            # Per-sample metric computation\n",
    "            for k in range(len(batch_idx)):\n",
    "                GT = gt_batch[k]               # (H, W)\n",
    "                P  = pred_depth_b[k]           # (H, W)\n",
    "                P[GT == 1000] = 1000                 # ignore background in preds\n",
    "\n",
    "                # keep your \"flag\" behavior\n",
    "                flag = (np.mean(GT) == 10)\n",
    "                if flag:\n",
    "                    continue\n",
    "\n",
    "                # masks\n",
    "                M_gt   = GT != 1000\n",
    "                M_pred = P  != 1000\n",
    "                M_err  = M_gt & M_pred\n",
    "\n",
    "                if np.any(M_gt):\n",
    "                    count += np.sum(M_gt)\n",
    "                    error += np.sum(np.abs(GT[M_gt] - P[M_gt]))\n",
    "\n",
    "                # 1) Min GT depth over tumor\n",
    "                ij_gt = masked_argmin_2d(GT, M_gt)\n",
    "                if ij_gt is not None:\n",
    "                    i_gt, j_gt = ij_gt\n",
    "                    min_gt_depth = float(GT[i_gt, j_gt])\n",
    "                    pred_at_gt   = float(P[i_gt, j_gt])\n",
    "                    resid_at_gt  = pred_at_gt - min_gt_depth\n",
    "                else:\n",
    "                    min_gt_depth = np.nan\n",
    "                    resid_at_gt  = np.nan\n",
    "\n",
    "                # 3) Min predicted depth over evaluable\n",
    "                ij_pred = masked_argmin_2d(P, M_err)\n",
    "                if ij_pred is not None:\n",
    "                    i_p, j_p = ij_pred\n",
    "                    min_pred_depth = float(P[i_p, j_p])\n",
    "                    gt_at_pred     = float(GT[i_p, j_p])\n",
    "                    resid_at_pred  = min_pred_depth - gt_at_pred\n",
    "                else:\n",
    "                    min_pred_depth = np.nan\n",
    "                    resid_at_pred  = np.nan\n",
    "\n",
    "                # 4) Min |error| over evaluable pixels\n",
    "                if np.any(M_err):\n",
    "                    resid_field = P - GT\n",
    "                    abs_resid   = np.abs(resid_field)\n",
    "                    ij_err = masked_argmin_2d(abs_resid, M_err)\n",
    "                    if ij_err is not None:\n",
    "                        i_e, j_e = ij_err\n",
    "                        min_abs_err = float(abs_resid[i_e, j_e])\n",
    "                        gt_at_err   = float(GT[i_e, j_e])\n",
    "                        pred_at_err = float(P[i_e, j_e])\n",
    "                        _ = (min_abs_err, gt_at_err, pred_at_err)  # kept for parity\n",
    "                # d and dist (handle NaNs)\n",
    "                if not np.isnan(min_pred_depth) and not np.isnan(min_gt_depth):\n",
    "                    d = min_pred_depth - min_gt_depth\n",
    "                else:\n",
    "                    d = np.nan\n",
    "\n",
    "                if (ij_pred is not None) and (ij_gt is not None):\n",
    "                    dist = np.linalg.norm(np.array(ij_pred) - np.array(ij_gt))\n",
    "                else:\n",
    "                    dist = np.nan\n",
    "\n",
    "                gt_depth.append(resid_at_gt)\n",
    "                pred_depth.append(resid_at_pred)\n",
    "                diff.append(d)\n",
    "                distance.append(dist)\n",
    "\n",
    "                if draw:\n",
    "                    try:\n",
    "                        draw_pred(GT, P)\n",
    "                    except NameError:\n",
    "                        # draw_pred not defined in scope—silently skip\n",
    "                        pass\n",
    "\n",
    "    # ---------- summaries ----------\n",
    "    total_mae = (error / count) if count > 0 else np.nan\n",
    "\n",
    "    # Compact prints (same as before)\n",
    "    if p:\n",
    "        print(f\"Min GT depth {np.nanmean(gt_depth)}\")\n",
    "        print(f\"Min pred depth {np.nanmean(pred_depth)}\")\n",
    "        print(f\"Difference {np.nanmean(diff)}\")\n",
    "        print(f\"Distance {np.nanmean(distance)}\")\n",
    "\n",
    "    print(f\"Total average tumor region depth error {total_mae}\")\n",
    "\n",
    "    return {\n",
    "        \"total_mae\": total_mae,\n",
    "        \"mean_min_gt_resid\": np.nanmean(gt_depth) if len(gt_depth) else np.nan,\n",
    "        \"mean_min_pred_resid\": np.nanmean(pred_depth) if len(pred_depth) else np.nan,\n",
    "        \"mean_min_diff\": np.nanmean(diff) if len(diff) else np.nan,\n",
    "        \"mean_min_dist\": np.nanmean(distance) if len(distance) else np.nan,\n",
    "    }"
   ]
  },
  {
   "cell_type": "code",
   "execution_count": null,
   "id": "eYj04MGJdfVJ",
   "metadata": {
    "id": "eYj04MGJdfVJ"
   },
   "outputs": [],
   "source": [
    "def make_pred(file_path, model, scale_params, seed, normalize, mm, draw, p):\n",
    "    data = load_data(file_path, scale_params, seed, normalize)\n",
    "    return calculate_unet_depth(model, data, mm, draw, p)"
   ]
  },
  {
   "cell_type": "code",
   "execution_count": 34,
   "id": "OO75AXWxdXZa",
   "metadata": {
    "colab": {
     "base_uri": "https://localhost:8080/"
    },
    "executionInfo": {
     "elapsed": 103223,
     "status": "ok",
     "timestamp": 1758142611715,
     "user": {
      "displayName": "Victor Huang",
      "userId": "04633402498328162113"
     },
     "user_tz": 240
    },
    "id": "OO75AXWxdXZa",
    "outputId": "47ecaaf3-790d-4773-f7c0-b530f9e079f3"
   },
   "outputs": [
    {
     "name": "stdout",
     "output_type": "stream",
     "text": [
      "FFFFF: [(np.float32(1.5005018e-07), np.float32(0.0022840023)), (np.float32(2.768177e-08), np.float32(0.001968136)), (np.float32(9.098925e-09), np.float32(0.0015638856)), (np.float32(3.6914662e-09), np.float32(0.0014251228)), (np.float32(3.0505463e-09), np.float32(0.0012524473)), (np.float32(2.5957803e-09), np.float32(0.001083783))]\n",
      "OOOOO: [(np.float32(0.000958141), np.float32(0.032059222)), (np.float32(0.7320821), np.float32(2.083207))]\n"
     ]
    }
   ],
   "source": [
    "scale_params = {\n",
    "    'fluorescence': 10e4,\n",
    "    'mu_a': 10,\n",
    "    'mu_s': 1,\n",
    "    'depth': 1,\n",
    "    'concentration_fluor': 1,\n",
    "    'reflectance': 1,\n",
    "}\n",
    "file_path = \"/content/drive/MyDrive/GTxPython/data/finalized/ts_2d_10000_original_TBR.mat\"\n",
    "data = load_data(\"/content/drive/MyDrive/GTxPython/data/finalized/ts_2d_10000_original_TBR.mat\", scale_params, 24, normalize=False)"
   ]
  },
  {
   "cell_type": "code",
   "execution_count": 35,
   "id": "f265f90c",
   "metadata": {
    "colab": {
     "base_uri": "https://localhost:8080/"
    },
    "executionInfo": {
     "elapsed": 27291,
     "status": "ok",
     "timestamp": 1758142639008,
     "user": {
      "displayName": "Victor Huang",
      "userId": "04633402498328162113"
     },
     "user_tz": 240
    },
    "id": "f265f90c",
    "outputId": "a14b36dd-dbfe-4f78-8ced-f23d96a569d8"
   },
   "outputs": [
    {
     "name": "stderr",
     "output_type": "stream",
     "text": [
      "100%|██████████| 125/125 [00:25<00:00,  4.88it/s]"
     ]
    },
    {
     "name": "stdout",
     "output_type": "stream",
     "text": [
      "Min GT depth 0.4349835680555552\n",
      "Min pred depth -0.09823728489875794\n",
      "Difference 0.02791273999027908\n",
      "Distance 12.196945794097848\n",
      "Total average tumor region depth error 0.5286947110956465\n"
     ]
    },
    {
     "name": "stderr",
     "output_type": "stream",
     "text": [
      "\n"
     ]
    },
    {
     "data": {
      "text/plain": [
       "{'total_mae': np.float64(0.5286947110956465),\n",
       " 'mean_min_gt_resid': np.float64(0.4349835680555552),\n",
       " 'mean_min_pred_resid': np.float64(-0.09823728489875794),\n",
       " 'mean_min_diff': np.float64(0.02791273999027908),\n",
       " 'mean_min_dist': np.float64(12.196945794097848)}"
      ]
     },
     "execution_count": 35,
     "metadata": {},
     "output_type": "execute_result"
    }
   ],
   "source": [
    "model = keras.models.load_model(\"/content/drive/MyDrive/GTxPython/ckpt_unet/original_2d_ts/model.keras\", safe_mode=True)\n",
    "calculate_unet_depth(model, data, mm=None, draw=False, p=True)"
   ]
  },
  {
   "cell_type": "code",
   "execution_count": 40,
   "id": "HXzpPz-DePTV",
   "metadata": {
    "executionInfo": {
     "elapsed": 7,
     "status": "ok",
     "timestamp": 1758142783185,
     "user": {
      "displayName": "Victor Huang",
      "userId": "04633402498328162113"
     },
     "user_tz": 240
    },
    "id": "HXzpPz-DePTV"
   },
   "outputs": [],
   "source": [
    "def old_calculate(model, data, mm=None, draw=False, p=False):\n",
    "    test_data = data[\"test\"]\n",
    "\n",
    "    def masked_argmin_2d(A, M):\n",
    "        rr, cc = np.where(M)\n",
    "        if rr.size == 0:\n",
    "            return None\n",
    "        k = int(np.argmin(A[rr, cc]))\n",
    "        return int(rr[k]), int(cc[k])\n",
    "\n",
    "    count = 0\n",
    "    error = 0.0\n",
    "    gt_depth = []\n",
    "    pred_depth = []\n",
    "    diff = []\n",
    "    distance = []\n",
    "\n",
    "    for i in tqdm(range(len(test_data[\"depth\"]))):\n",
    "        if mm is not None:\n",
    "            d = mm/2 - 1\n",
    "            if i % 4 != d:\n",
    "                continue\n",
    "\n",
    "        # inputs\n",
    "        op = np.stack([test_data['mu_a'], test_data['mu_s']], axis=1).transpose(0, 2, 3, 1)[i, ...]\n",
    "        op = np.expand_dims(op, axis=0)\n",
    "\n",
    "        fl = test_data[\"fluorescence\"][i]\n",
    "        fl = np.expand_dims(fl, axis=0)\n",
    "        fl = np.expand_dims(fl, axis=-1)\n",
    "\n",
    "        input_1 = tf.convert_to_tensor(op, dtype=tf.float32)\n",
    "        input_2 = tf.convert_to_tensor(fl, dtype=tf.float32)\n",
    "\n",
    "        output = model([input_1, input_2], training=False)\n",
    "\n",
    "\n",
    "        GT = test_data[\"depth\"][i]                          # ground truth depth\n",
    "        pred_conc  = output[0][0, :, :]              # not used below but kept\n",
    "        P = output[1][0, :, :].numpy()               # prediction (depth)\n",
    "        P[GT == 0] = 0                                           # ignore background in preds\n",
    "\n",
    "        flag = (np.mean(GT) == 10)\n",
    "\n",
    "        if not flag:\n",
    "            # masks\n",
    "            M_gt   = GT > 0\n",
    "            M_pred = P > 0\n",
    "            M_err  = M_gt & M_pred\n",
    "\n",
    "            mae_tumor = np.mean(np.abs(GT[M_gt] - P[M_gt])) if np.any(M_gt) else np.nan\n",
    "            # print(f\"average tumor region depth error {mae_tumor}\") if p else None\n",
    "\n",
    "            count += np.sum(M_gt)\n",
    "            error += np.sum(np.abs(GT[M_gt] - P[M_gt]))\n",
    "\n",
    "            # 1) Min GT depth (over tumor region)\n",
    "            ij_gt = masked_argmin_2d(GT, M_gt)\n",
    "            if ij_gt is not None:\n",
    "                i_gt, j_gt = ij_gt\n",
    "                min_gt_depth   = float(GT[i_gt, j_gt])\n",
    "                pred_at_gt     = float(P[i_gt, j_gt])\n",
    "                resid_at_gt    = pred_at_gt - min_gt_depth\n",
    "\n",
    "            # 3) Min predicted depth, but only where error is defined (M_err)\n",
    "            ij_pred = masked_argmin_2d(P, M_err)\n",
    "            if ij_pred is not None:\n",
    "                i_p, j_p = ij_pred\n",
    "                min_pred_depth = float(P[i_p, j_p])\n",
    "                gt_at_pred     = float(GT[i_p, j_p])\n",
    "                resid_at_pred  = min_pred_depth - gt_at_pred\n",
    "\n",
    "            # 4) Min |error| over evaluable pixels\n",
    "            if np.any(M_err):\n",
    "                resid_field  = P - GT\n",
    "                abs_resid    = np.abs(resid_field)\n",
    "                ij_err = masked_argmin_2d(abs_resid, M_err)\n",
    "                i_e, j_e = ij_err\n",
    "                min_abs_err = float(abs_resid[i_e, j_e])\n",
    "                gt_at_err   = float(GT[i_e, j_e])\n",
    "                pred_at_err = float(P[i_e, j_e])\n",
    "                resid_at_err= pred_at_err - gt_at_err\n",
    "\n",
    "            d = min_pred_depth - min_gt_depth\n",
    "            dist = np.linalg.norm(np.array(ij_pred) - np.array(ij_gt))\n",
    "\n",
    "            gt_depth.append(resid_at_gt)\n",
    "            pred_depth.append(resid_at_pred)\n",
    "            diff.append(d)\n",
    "            distance.append(dist)\n",
    "\n",
    "            draw_pred(GT, P) if draw else None\n",
    "\n",
    "    if p:\n",
    "        print(f\"Min GT depth {np.mean(gt_depth)}\")\n",
    "        print(f\"Min pred depth {np.mean(pred_depth)}\")\n",
    "        print(f\"Difference {np.mean(diff)}\")\n",
    "        print(f\"Distance {np.mean(distance)}\")\n",
    "\n",
    "\n",
    "    # global MAE over all tumor pixels seen\n",
    "    total_mae = (error / count) if count > 0 else np.nan\n",
    "    print(f\"Total average tumor region depth error {total_mae}\")\n"
   ]
  },
  {
   "cell_type": "code",
   "execution_count": 41,
   "id": "2A6Ue1AUeVjL",
   "metadata": {
    "colab": {
     "base_uri": "https://localhost:8080/"
    },
    "executionInfo": {
     "elapsed": 129333,
     "status": "ok",
     "timestamp": 1758142913655,
     "user": {
      "displayName": "Victor Huang",
      "userId": "04633402498328162113"
     },
     "user_tz": 240
    },
    "id": "2A6Ue1AUeVjL",
    "outputId": "25bfe193-854c-4725-ba1e-39f2189b2555"
   },
   "outputs": [
    {
     "name": "stderr",
     "output_type": "stream",
     "text": [
      "100%|██████████| 1000/1000 [02:09<00:00,  7.73it/s]"
     ]
    },
    {
     "name": "stdout",
     "output_type": "stream",
     "text": [
      "Min GT depth 0.43498385573737325\n",
      "Min pred depth -0.09823702824115753\n",
      "Difference 0.02791299664787948\n",
      "Distance 12.196945794097848\n",
      "Total average tumor region depth error 0.5286948434311817\n"
     ]
    },
    {
     "name": "stderr",
     "output_type": "stream",
     "text": [
      "\n"
     ]
    }
   ],
   "source": [
    "old_calculate(model, data, mm=None, draw=False, p=True)"
   ]
  }
 ],
 "metadata": {
  "accelerator": "GPU",
  "colab": {
   "gpuType": "T4",
   "machine_shape": "hm",
   "provenance": []
  },
  "kernelspec": {
   "display_name": "gtx_tf",
   "language": "python",
   "name": "python3"
  },
  "language_info": {
   "codemirror_mode": {
    "name": "ipython",
    "version": 3
   },
   "file_extension": ".py",
   "mimetype": "text/x-python",
   "name": "python",
   "nbconvert_exporter": "python",
   "pygments_lexer": "ipython3",
   "version": "3.10.16"
  }
 },
 "nbformat": 4,
 "nbformat_minor": 5
}
