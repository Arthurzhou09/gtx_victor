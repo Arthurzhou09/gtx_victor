{
 "cells": [
  {
   "cell_type": "code",
   "execution_count": 1,
   "metadata": {},
   "outputs": [],
   "source": [
    "import os\n",
    "os.chdir('/home/victorhuang/projects/gtx/')\n",
    "# os.chdir('/home/victorh/projects/gtx/')\n",
    "\n",
    "import numpy as np\n",
    "import mat73\n",
    "import scipy.io as sio\n",
    "import matplotlib.pyplot as plt\n",
    "import matplotlib.gridspec as gridspec\n",
    "\n",
    "from numerical.op_props_util import *"
   ]
  },
  {
   "cell_type": "code",
   "execution_count": 2,
   "metadata": {},
   "outputs": [],
   "source": [
    "# Spatial frequency\n",
    "fx = [0, 0.05, 0.1, 0.15, 0.2, 0.25] \n",
    "fx = np.array(fx)\n",
    "\n",
    "dt_data_path = 'data/20241118_data_splited.mat'\n",
    "phantom_data_path = 'data/phantom_data.mat'\n",
    "cylinder_data_path_r1 = 'data/cylinder/h1_r5_d0.mat'\n",
    "cylinder_data_path_r2 = 'data/cylinder/h1_r4_d2.mat' "
   ]
  }
 ],
 "metadata": {
  "kernelspec": {
   "display_name": "gtx_tf",
   "language": "python",
   "name": "python3"
  },
  "language_info": {
   "codemirror_mode": {
    "name": "ipython",
    "version": 3
   },
   "file_extension": ".py",
   "mimetype": "text/x-python",
   "name": "python",
   "nbconvert_exporter": "python",
   "pygments_lexer": "ipython3",
   "version": "3.10.16"
  }
 },
 "nbformat": 4,
 "nbformat_minor": 2
}
