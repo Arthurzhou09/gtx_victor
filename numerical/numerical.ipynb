{
 "cells": [
  {
   "cell_type": "code",
   "execution_count": 34,
   "metadata": {},
   "outputs": [],
   "source": [
    "import os\n",
    "os.chdir('/home/victorhuang/projects/gtx')\n",
    "\n",
    "import numpy as np\n",
    "import mat73\n",
    "import scipy.io as sio\n",
    "import matplotlib.pyplot as plt"
   ]
  },
  {
   "cell_type": "code",
   "execution_count": 35,
   "metadata": {},
   "outputs": [],
   "source": [
    "# Spatial frequency\n",
    "fx = [0, 0.05, 0.1, 0.15, 0.2, 0.25] \n",
    "fx = np.array(fx)\n",
    "\n",
    "dt_data_path = 'data/20241118_data_splited.mat'\n",
    "phantom_data_path = 'data/phantom_data.mat'\n",
    "cylinder_data_path_r1 = 'data/cylinder/h1_r1_d2.mat'\n",
    "cylinder_data_path_r2 = 'data/cylinder/h1_r2_d2.mat'  "
   ]
  },
  {
   "cell_type": "markdown",
   "metadata": {},
   "source": [
    "# Data"
   ]
  },
  {
   "cell_type": "markdown",
   "metadata": {},
   "source": [
    "## DT data"
   ]
  },
  {
   "cell_type": "code",
   "execution_count": 36,
   "metadata": {},
   "outputs": [],
   "source": [
    "# def load_dt_data(file_path):\n",
    "#     data = sio.loadmat(file_path)\n",
    "    \n",
    "#     data = {k: v for k, v in data.items() if not k.startswith('__')}\n",
    "\n",
    "#     return data\n",
    "\n",
    "# all_data = load_dt_data('data/20241118_data_splited.mat')\n",
    "\n",
    "# test_data = {\n",
    "#     'fluorescence': all_data['test_fluorescence'],\n",
    "#     'optical_props': all_data['test_optical_props'],\n",
    "#     'reflectance': all_data['test_reflectance'],\n",
    "#     'depth': all_data['test_depth'],\n",
    "#     'concentration': all_data['test_concentration_fluor']\n",
    "# }\n",
    "\n",
    "# idx = 0\n",
    "# sample_data = {\n",
    "#     'fluorescence': test_data['fluorescence'][idx, :, :, :],\n",
    "#     'optical_props': test_data['optical_props'][idx, :, :, :],\n",
    "#     'reflectance': test_data['reflectance'][idx, :, :, :],\n",
    "#     'depth': test_data['depth'][idx, :, :],\n",
    "#     'concentration': test_data['concentration'][idx, :, :]\n",
    "# }\n",
    "\n"
   ]
  },
  {
   "cell_type": "markdown",
   "metadata": {},
   "source": [
    "## Phantom data"
   ]
  },
  {
   "cell_type": "code",
   "execution_count": 37,
   "metadata": {},
   "outputs": [],
   "source": [
    "# def load_phantom_data(file_path):\n",
    "#     mat_data = mat73.loadmat(file_path)\n",
    "#     return mat_data\n",
    "\n",
    "# temp_data = load_phantom_data(phantom_data_path)\n",
    "# phantom_data = {\n",
    "#     'fluorescence': temp_data['F'],\n",
    "#     'optical_props': temp_data['OP'],\n",
    "#     'reflectance': temp_data['RE'],\n",
    "#     'depth': temp_data['DF'],\n",
    "#     'concentration': temp_data['QF']\n",
    "# }\n",
    "\n",
    "# idx=0\n",
    "# sample_data = {\n",
    "#     'fluorescence': phantom_data['fluorescence'][idx, :, :, :],\n",
    "#     'optical_props': phantom_data['optical_props'][idx, :, :, :],\n",
    "#     'reflectance': phantom_data['reflectance'][idx, :, :, :],\n",
    "#     'depth': phantom_data['depth'][idx, :, :],\n",
    "#     'concentration': phantom_data['concentration'][idx, :, :]\n",
    "# }\n"
   ]
  },
  {
   "cell_type": "markdown",
   "metadata": {},
   "source": [
    "## Cylinder data"
   ]
  },
  {
   "cell_type": "code",
   "execution_count": 38,
   "metadata": {},
   "outputs": [],
   "source": [
    "def load_cylinder_data(file_path):\n",
    "    data = mat73.loadmat(file_path)\n",
    "    return data\n",
    "\n",
    "temp_data = load_cylinder_data(cylinder_data_path_r1)\n",
    "sample_cylinder_data_r1 = {\n",
    "    'fluorescence': temp_data['F'],\n",
    "    'optical_props': temp_data['OP'],\n",
    "    'reflectance': temp_data['RE'],\n",
    "    'depth': temp_data['DF'],\n",
    "    'concentration': temp_data['QF']\n",
    "}\n",
    "\n",
    "temp_data = load_cylinder_data(cylinder_data_path_r2)\n",
    "sample_cylinder_data_r2 = {\n",
    "    'fluorescence': temp_data['F'],\n",
    "    'optical_props': temp_data['OP'],\n",
    "    'reflectance': temp_data['RE'],\n",
    "    'depth': temp_data['DF'],\n",
    "    'concentration': temp_data['QF']\n",
    "}"
   ]
  },
  {
   "cell_type": "markdown",
   "metadata": {},
   "source": [
    "# Stats"
   ]
  },
  {
   "cell_type": "code",
   "execution_count": 39,
   "metadata": {},
   "outputs": [
    {
     "name": "stdout",
     "output_type": "stream",
     "text": [
      "min_mu_a: 0.0036402950063347816, min_mu_sp: 0.974591076374054\n",
      "max_mu_a: 0.005507920868694782, max_mu_sp: 1.02427077293396\n",
      "mean_mu_a: 0.00453475397080183, mean_mu_sp: 1.0001111030578613\n"
     ]
    }
   ],
   "source": [
    "def check_stats(data, idx=2, type='cylinder'):\n",
    "    if type == 'cylinder':\n",
    "        mu_a = data['optical_props'][:, :, 0]\n",
    "        mu_sp = data['optical_props'][:, :, 1]\n",
    "    elif type == 'phantom': # idx < 36\n",
    "        mu_a = data['optical_props'][idx, :, :, 0]\n",
    "        mu_sp = data['optical_props'][idx, :, :, 1]\n",
    "    elif type == 'dt': # idx < 10000\n",
    "        mu_a = data['optical_props'][idx, :, :, 0]\n",
    "        mu_sp = data['optical_props'][idx, :, :, 1]\n",
    "    else:\n",
    "        raise ValueError(f'Invalid type: {type}')\n",
    "    \n",
    "    min_mu_a = np.min(mu_a)\n",
    "    min_mu_sp = np.min(mu_sp)\n",
    "    \n",
    "    max_mu_a = np.max(mu_a)\n",
    "    max_mu_sp = np.max(mu_sp)\n",
    "\n",
    "    mean_mu_a = np.mean(mu_a)\n",
    "    mean_mu_sp = np.mean(mu_sp)\n",
    "    \n",
    "    print(f'min_mu_a: {min_mu_a}, min_mu_sp: {min_mu_sp}')\n",
    "    print(f'max_mu_a: {max_mu_a}, max_mu_sp: {max_mu_sp}')\n",
    "    print(f'mean_mu_a: {mean_mu_a}, mean_mu_sp: {mean_mu_sp}')\n",
    "    \n",
    "check_stats(sample_cylinder_data_r1, type='cylinder')"
   ]
  },
  {
   "cell_type": "code",
   "execution_count": 40,
   "metadata": {},
   "outputs": [
    {
     "data": {
      "image/png": "[encoded data removed]",
      "text/plain": [
       "<Figure size 1000x500 with 6 Axes>"
      ]
     },
     "metadata": {},
     "output_type": "display_data"
    }
   ],
   "source": [
    "def draw_img(data, type='depth', idx=2, data_type='cylinder'):\n",
    "    if type == 'depth':\n",
    "        data = data['depth']\n",
    "    elif type == 'concentration':\n",
    "        data = data['concentration']\n",
    "    elif type == 'fluorescence':\n",
    "        data = data['fluorescence']\n",
    "    elif type == 'reflectance':\n",
    "        data = data['reflectance']\n",
    "    elif type == 'optical_props':\n",
    "        data = data['optical_props']\n",
    "    else:\n",
    "        raise ValueError(f'Invalid type: {type}')\n",
    "    \n",
    "    if data_type == 'cylinder': # 3 dim\n",
    "        data = data\n",
    "    elif data_type == 'phantom':\n",
    "        data = data[idx, :, :, :]\n",
    "    elif data_type == 'dt':\n",
    "        data = data[idx, :, :, :]\n",
    "    else:\n",
    "        raise ValueError(f'Invalid data_type: {data_type}')\n",
    "    \n",
    "    if type == 'fluorescence' or type == 'reflectance':\n",
    "        fig, axs = plt.subplots(1, 6, figsize=(10, 5))\n",
    "        for i in range(6):\n",
    "            axs[i].imshow(data[:, :, i], cmap='hot', interpolation='nearest')\n",
    "            axs[i].axis('off')\n",
    "        plt.show()\n",
    "    elif type == 'optical_props':\n",
    "        fig, axs = plt.subplots(1, 2, figsize=(10, 5))\n",
    "        axs[0].imshow(data[:, :, 0], cmap='hot', interpolation='nearest')\n",
    "        axs[0].set_title('mu_a')\n",
    "        axs[0].axis('off')\n",
    "        axs[1].imshow(data[:, :, 1], cmap='hot', interpolation='nearest')\n",
    "        axs[1].set_title('mu_sp')\n",
    "        axs[1].axis('off')\n",
    "        plt.show()\n",
    "    else:\n",
    "        plt.imshow(data, cmap='hot', interpolation='nearest')\n",
    "        plt.colorbar()\n",
    "        plt.show()\n",
    "\n",
    "draw_img(sample_cylinder_data_r1, type='fluorescence', idx=2, data_type='cylinder')"
   ]
  },
  {
   "cell_type": "code",
   "execution_count": 41,
   "metadata": {},
   "outputs": [
    {
     "data": {
      "image/png": "[encoded data removed]",
      "text/plain": [
       "<Figure size 600x400 with 1 Axes>"
      ]
     },
     "metadata": {},
     "output_type": "display_data"
    }
   ],
   "source": [
    "def draw_histogram(data, idx, data_type='cylinder'):\n",
    "\n",
    "    if data_type == 'cylinder':\n",
    "        data = data['fluorescence']\n",
    "    elif data_type == 'phantom':\n",
    "        data = data['fluorescence'][idx]\n",
    "    elif data_type == 'dt':\n",
    "        data = data['fluorescence'][idx]\n",
    "    else:\n",
    "        raise ValueError(f'Invalid data_type: {data_type}')\n",
    "\n",
    "    d = data[:,:,0] # this is shape (101,101)\n",
    "    pixels = d.ravel()\n",
    "\n",
    "    plt.figure(figsize=(6, 4))\n",
    "    plt.hist(pixels, bins=100, color='green', edgecolor='black')\n",
    "    plt.title(f\"Fluorescence Intensity Histogram\")\n",
    "    plt.xlabel(\"Intensity\")\n",
    "    plt.ylabel(\"Frequency\")\n",
    "    plt.grid(True)\n",
    "    plt.tight_layout()\n",
    "    plt.show()\n",
    "\n",
    "draw_histogram(sample_cylinder_data_r2, 2, data_type='cylinder')\n"
   ]
  },
  {
   "cell_type": "markdown",
   "metadata": {},
   "source": [
    "# Physics Value Calculations"
   ]
  },
  {
   "cell_type": "markdown",
   "metadata": {},
   "source": [
    "## boundary condition"
   ]
  },
  {
   "cell_type": "code",
   "execution_count": 42,
   "metadata": {},
   "outputs": [],
   "source": [
    "def getReff_Haskell(n_in, n_out=1.0):\n",
    "    \"\"\"\n",
    "    Compute the effective reflection coefficient Reff using Fresnel integrals (Haskell et al.).\n",
    "\n",
    "    Parameters\n",
    "    ----------\n",
    "    n_in : float\n",
    "        Refractive index of the tissue\n",
    "    n_out : float\n",
    "        Refractive index of the outside medium (default: 1.0 for air)\n",
    "\n",
    "    Returns\n",
    "    -------\n",
    "    Reff : float\n",
    "        Effective reflection coefficient\n",
    "    \"\"\"\n",
    "    oc = np.arcsin(n_out / n_in)\n",
    "    o = np.linspace(0, oc, 2000)\n",
    "    coso = np.cos(o)\n",
    "    cosop = np.sqrt(1 - (n_in / n_out)**2 * np.sin(o)**2)\n",
    "\n",
    "    r_fres1 = ((n_in * cosop - n_out * coso) / (n_in * cosop + n_out * coso))**2\n",
    "    r_fres2 = ((n_in * coso - n_out * cosop) / (n_in * coso + n_out * cosop))**2\n",
    "    r_fres = 0.5 * (r_fres1 + r_fres2)\n",
    "\n",
    "    sin_o = np.sin(o)\n",
    "\n",
    "    r_phi_int = 2 * sin_o * coso * r_fres\n",
    "    r_phi = np.trapz(r_phi_int, o)\n",
    "\n",
    "    r_j_int = 3 * sin_o * coso**2 * r_fres\n",
    "    r_j = np.trapz(r_j_int, o)\n",
    "\n",
    "    Reff = (r_phi + r_j) / (2 - r_phi + r_j)\n",
    "    return Reff"
   ]
  },
  {
   "cell_type": "code",
   "execution_count": 43,
   "metadata": {},
   "outputs": [],
   "source": [
    "def gtxDTBoundaryCondition(nrel, method='Groenhuis'):\n",
    "    \"\"\"\n",
    "    Compute boundary correction constants for diffuse reflectance and fluence modeling.\n",
    "\n",
    "    Parameters\n",
    "    ----------\n",
    "    nrel : float\n",
    "        Relative refractive index (e.g., 1.4)\n",
    "    method : str\n",
    "        Method to compute internal reflectance. Options: 'Groenhuis' (default), 'Haskell'\n",
    "\n",
    "    Returns\n",
    "    -------\n",
    "    Cnd : float\n",
    "        Correction factor for fluence rate at boundary\n",
    "    K : float\n",
    "        Extrapolated boundary constant\n",
    "    rid : float\n",
    "        Internal diffuse reflectance\n",
    "    \"\"\"\n",
    "    if nrel == 1.0:\n",
    "        rid = 0.0\n",
    "        K = 1.0\n",
    "    else:\n",
    "        if method == 'Groenhuis':\n",
    "            # Empirical formula from Cuccia (2009), based on Groenhuis (1983)\n",
    "            rid = -1.44 / (nrel**2) + 0.71 / nrel + 0.67 + 0.0636 * nrel\n",
    "        elif method == 'Haskell':\n",
    "            rid = getReff_Haskell(nrel)\n",
    "        else:\n",
    "            raise ValueError(f\"Unsupported boundary method: {method}\")\n",
    "        K = (1 + rid) / (1 - rid)\n",
    "\n",
    "    Cnd = 2 * K\n",
    "    return Cnd, K, rid"
   ]
  },
  {
   "cell_type": "code",
   "execution_count": 44,
   "metadata": {},
   "outputs": [
    {
     "name": "stdout",
     "output_type": "stream",
     "text": [
      "Cnd = 6.538, K = 3.269, rid = 0.531\n"
     ]
    }
   ],
   "source": [
    "Cnd, K, rid = gtxDTBoundaryCondition(nrel=1.4)\n",
    "print(f\"Cnd = {Cnd:.3f}, K = {K:.3f}, rid = {rid:.3f}\")"
   ]
  },
  {
   "cell_type": "markdown",
   "metadata": {},
   "source": [
    "## mueff"
   ]
  },
  {
   "cell_type": "code",
   "execution_count": 45,
   "metadata": {},
   "outputs": [],
   "source": [
    "def compute_mueff(mu_a, mu_s, fx):\n",
    "    \"\"\"\n",
    "    Compute the effective attenuation coefficient (mu_eff) used in diffusion theory.\n",
    "\n",
    "    Parameters\n",
    "    ----------\n",
    "    mu_a : np.ndarray, shape (H, W)\n",
    "        Absorption coefficient at excitation (mm⁻¹)\n",
    "    mu_s : np.ndarray, shape (H, W)\n",
    "        Reduced scattering coefficient at excitation (mm⁻¹)\n",
    "    fx : np.ndarray, shape (F,)\n",
    "        Spatial frequencies (mm⁻¹)\n",
    "\n",
    "    Returns\n",
    "    -------\n",
    "    mu_eff : np.ndarray, shape (H, W, F)\n",
    "        Effective attenuation coefficient at each pixel and frequency\n",
    "    \"\"\"\n",
    "\n",
    "    # Diffusion coefficient D = 1 / (3 * (μₐ + μₛ′))\n",
    "    mut = mu_a + mu_s  # shape (H, W)\n",
    "    D = 1.0 / (3.0 * mut)  # shape (H, W)\n",
    "\n",
    "    # Broadcasting with spatial frequencies\n",
    "    mu_a_term = mu_a / D  # shape (H, W)\n",
    "    mu_a_term = mu_a_term[:, :, np.newaxis]  # shape (H, W, 1)\n",
    "    fx_term = (2 * np.pi * fx)**2  # shape (F,)\n",
    "\n",
    "    mu_eff = np.sqrt(mu_a_term + fx_term[np.newaxis, np.newaxis, :])  # shape (H, W, F)\n",
    "\n",
    "    return mu_eff"
   ]
  },
  {
   "cell_type": "markdown",
   "metadata": {},
   "source": [
    "## fluence"
   ]
  },
  {
   "cell_type": "code",
   "execution_count": 48,
   "metadata": {},
   "outputs": [],
   "source": [
    "def fluence_total(mu_a, mu_s, fx, z_vals, nrel=1.4, method='Cuccia'):\n",
    "    \"\"\"\n",
    "    Compute fluence Φ(z, fx) at depth using spatial-frequency domain diffusion theory.\n",
    "\n",
    "    Parameters\n",
    "    ----------\n",
    "    mu_a : np.ndarray, shape (H, W)\n",
    "        Absorption coefficient\n",
    "    mu_s : np.ndarray, shape (H, W)\n",
    "        Reduced scattering coefficient\n",
    "    fx : np.ndarray, shape (F,)\n",
    "        Spatial frequencies (mm⁻¹)\n",
    "    z_vals : np.ndarray, shape (Z,)\n",
    "        Depths to evaluate fluence (mm)\n",
    "    nrel : float\n",
    "        Relative refractive index\n",
    "    method : str\n",
    "        Method for fluence calculation: 'Cuccia', 'Kim', or 'Gardner'\n",
    "\n",
    "    Returns\n",
    "    -------\n",
    "    phi : np.ndarray, shape (H, W, Z, F)\n",
    "        Fluence values at each pixel, depth, and spatial frequency\n",
    "    \"\"\"\n",
    "\n",
    "    H, W = mu_a.shape\n",
    "    F = len(fx)\n",
    "    Z = len(z_vals)\n",
    "\n",
    "    # Boundary condition constants\n",
    "    Cnd, K, _ = gtxDTBoundaryCondition(nrel)\n",
    "\n",
    "    mutr = mu_a + mu_s\n",
    "    D = 1.0 / (3.0 * mutr)\n",
    "    ap = mu_s / mutr\n",
    "\n",
    "    # Compute effective attenuation coefficient\n",
    "    mu_eff = compute_mueff(mu_a, mu_s, fx)\n",
    "\n",
    "    # Expand for broadcasting\n",
    "    z = z_vals[None, None, :, None]         # (1, 1, Z, 1)\n",
    "    mu_eff = mu_eff[:, :, None, :]          # (H, W, 1, F)\n",
    "    mutr = mutr[:, :, None, None]           # (H, W, 1, 1)\n",
    "    ap = ap[:, :, None, None]               # (H, W, 1, 1)\n",
    "    \n",
    "    if method == 'Cuccia':\n",
    "        # Cuccia model: valid for fx < 1/(3~4)utr\n",
    "        A = 1/Cnd\n",
    "\n",
    "        C0 = 3 * ap / (mu_eff**2 / mutr**2 - 1)\n",
    "        C = - 3 * ap * (1 + 3*A) / ((mu_eff**2 / mutr**2 - 1) * (mu_eff / mutr + 3*A))\n",
    "        phi = C0 * np.exp(-mutr * z) + C * np.exp(-mu_eff * z)  # (H, W, Z, F)\n",
    "\n",
    "        return phi\n",
    "    \n",
    "    elif method == 'Kim':\n",
    "        raise NotImplementedError(\"Kim model not implemented\")\n",
    "    \n",
    "    elif method == 'Gardner':\n",
    "        raise NotImplementedError(\"Gardner model not implemented\")\n",
    "    \n",
    "    else:\n",
    "        raise ValueError(f\"Invalid method: {method}\")"
   ]
  },
  {
   "cell_type": "markdown",
   "metadata": {},
   "source": [
    "## Tef_z"
   ]
  },
  {
   "cell_type": "code",
   "execution_count": 53,
   "metadata": {},
   "outputs": [],
   "source": [
    "def compute_Tef(mu_a_x, mu_s_x, mu_a_m, mu_s_m, fx, z_vals, nrel=1.4, fx_dependence=True, layer='top'):\n",
    "    \"\"\"\n",
    "    Compute the depth-resolved transport kernel Tef(z, fx).\n",
    "\n",
    "    Parameters\n",
    "    ----------\n",
    "    mu_a_x : np.ndarray, shape (H, W)\n",
    "        Absorption at excitation\n",
    "    mu_s_x : np.ndarray, shape (H, W)\n",
    "        Scattering at excitation\n",
    "    mu_a_m : np.ndarray, shape (H, W)\n",
    "        Absorption at emission\n",
    "    mu_s_m : np.ndarray, shape (H, W)\n",
    "        Scattering at emission\n",
    "    fx : np.ndarray, shape (F,)\n",
    "        Spatial frequencies\n",
    "    z_vals : np.ndarray, shape (Z,)\n",
    "        Depths to integrate over\n",
    "    nrel : float\n",
    "        Relative refractive index\n",
    "    fx_dependence : bool\n",
    "        Whether emission fluence depends on fx (True for real data, False for sim)\n",
    "\n",
    "    Returns\n",
    "    -------\n",
    "    Tef_z : np.ndarray, shape (H, W, Z, F)\n",
    "        Depth-resolved transport kernel\n",
    "    \"\"\"\n",
    "\n",
    "    if layer == 'top' and z_vals[0] > z_vals[-1]:\n",
    "        raise ValueError(\"For layer='top', z_vals must increase from surface to depth\")\n",
    "    elif layer == 'bottom' and z_vals[0] < z_vals[-1]:\n",
    "        raise ValueError(\"For layer='bottom', z_vals must decrease from depth to deeper layers\")\n",
    "\n",
    "    Cnd, _, _ = gtxDTBoundaryCondition(nrel)\n",
    "\n",
    "    # Excitation fluence: Φ_x(z, fx)\n",
    "    phi_x = fluence_total(mu_a_x, mu_s_x, fx, z_vals, nrel=nrel, method='Cuccia')  # (H, W, Z, F)\n",
    "\n",
    "    # Emission fluence: Φ_m(z, fx) or Φ_m(z, f=0)\n",
    "    if fx_dependence:\n",
    "        phi_m = fluence_total(mu_a_m, mu_s_m, fx, z_vals, nrel=nrel, method='Cuccia')\n",
    "    else:\n",
    "        phi_m = fluence_total(mu_a_m, mu_s_m, np.array([0.0]), z_vals, nrel=nrel, method='Cuccia')\n",
    "        phi_m = np.repeat(phi_m, len(fx), axis=3)  # replicate along fx dimension\n",
    "\n",
    "    dz = np.gradient(z_vals)[None, None, :, None]  # (1, 1, Z, 1)\n",
    "    product_term = phi_x * phi_m * dz\n",
    "\n",
    "    if layer == 'top':\n",
    "        Tef_z = np.cumsum(product_term, axis=2) / Cnd\n",
    "    elif layer == 'bottom':\n",
    "        Tef_z = np.cumsum(product_term[:, :, ::-1, :], axis=2)[:, :, ::-1, :] / Cnd\n",
    "    else:\n",
    "        raise ValueError(f\"Invalid layer: {layer}\")\n",
    "    \n",
    "    Tef = np.sum(product_term, axis=2) / Cnd\n",
    "    \n",
    "    return Tef, Tef_z, phi_x, phi_m"
   ]
  },
  {
   "cell_type": "markdown",
   "metadata": {},
   "source": [
    "# Forward Model"
   ]
  },
  {
   "cell_type": "markdown",
   "metadata": {},
   "source": [
    "## reflectance total"
   ]
  },
  {
   "cell_type": "code",
   "execution_count": 58,
   "metadata": {},
   "outputs": [],
   "source": [
    "def compute_reflectance_total(mu_a, mu_s, fx, nrel=1.4, method='Cuccia'):    \n",
    "    \"\"\"\n",
    "    Compute diffuse reflectance R_d using the Cuccia model for spatial-frequency domain imaging.\n",
    "\n",
    "    Parameters:\n",
    "    - mu_a: Absorption coefficient (H, W)\n",
    "    - mu_s: Reduced scattering coefficient (H, W)\n",
    "    - fx: Spatial frequencies (F,) or scalar\n",
    "    - nrel: Relative refractive index (default = 1.4)\n",
    "\n",
    "    Returns:\n",
    "    - Rd: Diffuse reflectance (H, W, F)\n",
    "    \"\"\"\n",
    "\n",
    "    mu_tr = mu_a + mu_s\n",
    "    ap = mu_s / mu_tr\n",
    "\n",
    "    # Expand dimensions for broadcasting\n",
    "    mu_tr = mu_tr[..., np.newaxis]  # (H, W, 1)\n",
    "    ap = ap[..., np.newaxis]        # (H, W, 1)\n",
    "\n",
    "    mu_eff = compute_mueff(mu_a, mu_s, fx)\n",
    "\n",
    "    Cnd, _, _ = gtxDTBoundaryCondition(nrel)\n",
    "    A = 1/Cnd\n",
    "\n",
    "    if method == 'Cuccia':\n",
    "        Rd = 3 * A * ap / ((mu_eff**2 / mu_tr**2 + 1) * (mu_eff / mu_tr + 3 * A))\n",
    "    elif method == 'Kim':\n",
    "        raise NotImplementedError(\"Kim model not implemented\")\n",
    "    elif method == 'Gardner':\n",
    "        raise NotImplementedError(\"Gardner model not implemented\")\n",
    "    else:\n",
    "        raise ValueError(f\"Invalid method: {method}\")\n",
    "    \n",
    "    return Rd\n",
    "    \n"
   ]
  },
  {
   "cell_type": "markdown",
   "metadata": {},
   "source": [
    "## fluorescence total"
   ]
  },
  {
   "cell_type": "code",
   "execution_count": null,
   "metadata": {},
   "outputs": [],
   "source": [
    "def compute_fluorescence_total(mua_x, mus_x, mua_m, mus_m, muaf_x, eta, nrel, fx, z_vals):\n",
    "    \"\"\"\n",
    "    Compute total fluorescence using SFDI forward model.\n",
    "\n",
    "    Parameters:\n",
    "    - mua_x, mus_x: Absorption and scattering at excitation\n",
    "    - mua_m, mus_m: Absorption and scattering at emission\n",
    "    - muaf_x: Fluorophore absorption at excitation\n",
    "    - eta: Quantum efficiency\n",
    "    - nrel: Relative index of refraction\n",
    "    - fx: Spatial frequencies (F,)\n",
    "    - z_vals: Depths to evaluate fluence (mm)\n",
    "\n",
    "    Returns:\n",
    "    - F: Total fluorescence\n",
    "    - R_x: Reflectance at excitation\n",
    "    - R_m: Reflectance at emission\n",
    "\n",
    "    \"\"\"\n",
    "\n",
    "    Tef, _, _, _ = compute_Tef(\n",
    "        mua_x, mus_x,\n",
    "        mua_m, mus_m,\n",
    "        fx, z_vals,\n",
    "        nrel=nrel,\n",
    "        fx_dependence=True,\n",
    "        layer='top' # or 'bottom' depends on the z_vals\n",
    "    )\n",
    "\n",
    "    qF = eta * muaf_x[..., np.newaxis] # (H, W, 1)\n",
    "    F = qF * Tef\n",
    "\n",
    "    R_x = compute_reflectance_total(mua_x, mus_x, fx, nrel=nrel)\n",
    "    R_m = compute_reflectance_total(mua_m, mus_m, fx, nrel=nrel)\n",
    "\n",
    "    return F, R_x, R_m"
   ]
  },
  {
   "cell_type": "markdown",
   "metadata": {},
   "source": [
    "# Inverse"
   ]
  },
  {
   "cell_type": "code",
   "execution_count": null,
   "metadata": {},
   "outputs": [],
   "source": [
    "def inverse_fluorescence_depth(F, fx, mua_x, mus_x, mua_m, mus_m, nrel, numerical_vars):\n",
    "    \"\"\"\n",
    "    Estimate depth and fluorescence yield from fluorescence SFDI images.\n",
    "\n",
    "    Parameters\n",
    "    ----------\n",
    "    F : ndarray of shape (H, W, F)\n",
    "        Measured fluorescence images at different spatial frequencies.\n",
    "    fx : ndarray of shape (F,)\n",
    "        Spatial frequencies.\n",
    "    mua_x, mus_x : ndarray of shape (H, W)\n",
    "        Absorption and scattering at excitation.\n",
    "    mua_m, mus_m : ndarray of shape (H, W)\n",
    "        Absorption and scattering at emission.\n",
    "    nrel : float\n",
    "        Relative refractive index.\n",
    "    numerical_vars : dict\n",
    "        Parameters: fxDependence, hFl, zDelta, layerFl\n",
    "\n",
    "    Returns\n",
    "    -------\n",
    "    z_est : ndarray of shape (H, W)\n",
    "        Estimated depth.\n",
    "    qF_est : ndarray of shape (H, W)\n",
    "        Estimated fluorescence yield.\n",
    "    \"\"\""
   ]
  }
 ],
 "metadata": {
  "kernelspec": {
   "display_name": "gtx_tf",
   "language": "python",
   "name": "python3"
  },
  "language_info": {
   "codemirror_mode": {
    "name": "ipython",
    "version": 3
   },
   "file_extension": ".py",
   "mimetype": "text/x-python",
   "name": "python",
   "nbconvert_exporter": "python",
   "pygments_lexer": "ipython3",
   "version": "3.10.16"
  }
 },
 "nbformat": 4,
 "nbformat_minor": 2
}
