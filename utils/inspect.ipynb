{
 "cells": [
  {
   "cell_type": "code",
   "execution_count": 2,
   "id": "292401ae",
   "metadata": {},
   "outputs": [],
   "source": [
    "import numpy as np\n",
    "import scipy.io as sio\n",
    "import mat73 \n",
    "\n",
    "import os\n",
    "os.chdir('/home/victorh/projects/gtx/utils')\n",
    "\n",
    "from draw_stuff import *"
   ]
  },
  {
   "cell_type": "code",
   "execution_count": 3,
   "id": "9fe33d05",
   "metadata": {},
   "outputs": [],
   "source": [
    "def read_mat_data(path):\n",
    "    mat_data = mat73.loadmat(path)\n",
    "    return {\n",
    "        'fluorescence': mat_data['F'],\n",
    "        'op': mat_data['OP'],\n",
    "        'depth': mat_data['DF'],\n",
    "        'concentration_fluor': mat_data['QF'],\n",
    "        'reflectance': mat_data['RE']\n",
    "    }"
   ]
  },
  {
   "cell_type": "code",
   "execution_count": 4,
   "id": "b4172c03",
   "metadata": {},
   "outputs": [],
   "source": [
    "def get_data(idx, data_list):\n",
    "    return {\n",
    "        'fluorescence': data_list['fluorescence'][idx,...],\n",
    "        'op': data_list['op'][idx,...],\n",
    "        'depth': data_list['depth'][idx,...],\n",
    "        'concentration_fluor': data_list['concentration_fluor'][idx,...],\n",
    "        'reflectance': data_list['reflectance'][idx,...]\n",
    "    }"
   ]
  },
  {
   "cell_type": "code",
   "execution_count": 101,
   "id": "d9a6cca8",
   "metadata": {},
   "outputs": [],
   "source": [
    "sample = read_mat_data('../data/mcx/10_DL_nImages1000_new_newOP.mat')"
   ]
  },
  {
   "cell_type": "code",
   "execution_count": null,
   "id": "cdc63b28",
   "metadata": {},
   "outputs": [],
   "source": [
    "# 7: 943, # 8: 586, #10: 297, 656"
   ]
  },
  {
   "cell_type": "code",
   "execution_count": 98,
   "id": "ccad0c22",
   "metadata": {},
   "outputs": [
    {
     "data": {
      "text/plain": [
       "(100, 100, 6)"
      ]
     },
     "execution_count": 98,
     "metadata": {},
     "output_type": "execute_result"
    }
   ],
   "source": [
    "one = get_data(586, sample)\n",
    "one['fluorescence'].shape"
   ]
  },
  {
   "cell_type": "code",
   "execution_count": 102,
   "id": "79eac003",
   "metadata": {},
   "outputs": [
    {
     "ename": "AssertionError",
     "evalue": "",
     "output_type": "error",
     "traceback": [
      "\u001b[31m---------------------------------------------------------------------------\u001b[39m",
      "\u001b[31mAssertionError\u001b[39m                            Traceback (most recent call last)",
      "\u001b[36mCell\u001b[39m\u001b[36m \u001b[39m\u001b[32mIn[102]\u001b[39m\u001b[32m, line 6\u001b[39m\n\u001b[32m      3\u001b[39m mua = sample_1[\u001b[33m'\u001b[39m\u001b[33mop\u001b[39m\u001b[33m'\u001b[39m][..., \u001b[32m0\u001b[39m]\n\u001b[32m      4\u001b[39m mus = sample_1[\u001b[33m'\u001b[39m\u001b[33mop\u001b[39m\u001b[33m'\u001b[39m][..., \u001b[32m1\u001b[39m]\n\u001b[32m----> \u001b[39m\u001b[32m6\u001b[39m \u001b[38;5;28;01massert\u001b[39;00m np.mean(mua) > \u001b[32m0\u001b[39m\n\u001b[32m      7\u001b[39m \u001b[38;5;28;01massert\u001b[39;00m np.mean(mus) > \u001b[32m1\u001b[39m\n",
      "\u001b[31mAssertionError\u001b[39m: "
     ]
    }
   ],
   "source": [
    "for i in range(1000):\n",
    "    sample_1 = get_data(i, sample)\n",
    "    mua = sample_1['op'][..., 0]\n",
    "    mus = sample_1['op'][..., 1]\n",
    "    \n",
    "    assert np.mean(mua) > 0\n",
    "    assert np.mean(mus) > 1\n",
    "        "
   ]
  },
  {
   "cell_type": "code",
   "execution_count": 103,
   "id": "3907bba7",
   "metadata": {},
   "outputs": [
    {
     "name": "stdout",
     "output_type": "stream",
     "text": [
      "297 -> mean is 0.0000 (<= 0)\n",
      "656 -> mean is 0.0000 (<= 0)\n"
     ]
    }
   ],
   "source": [
    "for i in range(1000):\n",
    "    sample_1 = get_data(i, sample)\n",
    "    mean_val = np.mean(sample_1['op'][..., 0])\n",
    "    \n",
    "    if np.isnan(mean_val):\n",
    "        print(f\"{i} -> mean is NaN\")\n",
    "    elif mean_val <= 0:\n",
    "        print(f\"{i} -> mean is {mean_val:.4f} (<= 0)\")\n",
    "    \n",
    "    # assert mean_val > 0\n",
    "    # assert np.mean(sample_1['op'][..., 1]) > 1"
   ]
  },
  {
   "cell_type": "code",
   "execution_count": 105,
   "id": "ac772de7",
   "metadata": {},
   "outputs": [
    {
     "name": "stdout",
     "output_type": "stream",
     "text": [
      "0.0\n",
      "0.0\n"
     ]
    },
    {
     "data": {
      "image/png": "[encoded data removed]",
      "text/plain": [
       "<Figure size 1000x500 with 2 Axes>"
      ]
     },
     "metadata": {},
     "output_type": "display_data"
    }
   ],
   "source": [
    "sample_1 = get_data(656, sample)\n",
    "print(np.max(sample_1['op'][..., 0]))\n",
    "print(np.max(sample_1['op'][..., 1]))\n",
    "\n",
    "fig, axs = plt.subplots(1, 2, figsize=(10, 5))\n",
    "for i in range(2):\n",
    "    axs[i].imshow(sample_1['op'][:, :, i], cmap='hot', interpolation='nearest')\n",
    "    axs[i].axis('off')"
   ]
  }
 ],
 "metadata": {
  "kernelspec": {
   "display_name": "pytor",
   "language": "python",
   "name": "python3"
  },
  "language_info": {
   "codemirror_mode": {
    "name": "ipython",
    "version": 3
   },
   "file_extension": ".py",
   "mimetype": "text/x-python",
   "name": "python",
   "nbconvert_exporter": "python",
   "pygments_lexer": "ipython3",
   "version": "3.11.13"
  }
 },
 "nbformat": 4,
 "nbformat_minor": 5
}
