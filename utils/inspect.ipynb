{
 "cells": [
  {
   "cell_type": "code",
   "execution_count": 1,
   "id": "292401ae",
   "metadata": {},
   "outputs": [],
   "source": [
    "import numpy as np\n",
    "import scipy.io as sio\n",
    "import mat73 \n",
    "\n",
    "import os\n",
    "os.chdir('/home/victorhuang/projects/gtx/utils')\n",
    "\n",
    "from draw_stuff import *"
   ]
  },
  {
   "cell_type": "code",
   "execution_count": 2,
   "id": "9fe33d05",
   "metadata": {},
   "outputs": [],
   "source": [
    "def read_mat_data(path):\n",
    "    mat_data = mat73.loadmat(path)\n",
    "    return {\n",
    "        'fluorescence': mat_data['F'],\n",
    "        'op': mat_data['OP'],\n",
    "        'depth': mat_data['DF'],\n",
    "        'concentration_fluor': mat_data['QF'],\n",
    "        'reflectance': mat_data['RE']\n",
    "    }"
   ]
  },
  {
   "cell_type": "code",
   "execution_count": 3,
   "id": "b4172c03",
   "metadata": {},
   "outputs": [],
   "source": [
    "def get_data(idx, data_list):\n",
    "    return {\n",
    "        'fluorescence': data_list['fluorescence'][idx,...],\n",
    "        'op': data_list['op'][idx,...],\n",
    "        'depth': data_list['depth'][idx,...],\n",
    "        'concentration_fluor': data_list['concentration_fluor'][idx,...],\n",
    "        'reflectance': data_list['reflectance'][idx,...]\n",
    "    }"
   ]
  },
  {
   "cell_type": "code",
   "execution_count": 9,
   "id": "9ee569b8",
   "metadata": {},
   "outputs": [
    {
     "data": {
      "image/png": "[encoded data removed]",
      "text/plain": [
       "<Figure size 1000x500 with 6 Axes>"
      ]
     },
     "metadata": {},
     "output_type": "display_data"
    },
    {
     "name": "stdout",
     "output_type": "stream",
     "text": [
      "[[[nan nan nan nan nan nan]\n",
      "  [nan nan nan nan nan nan]\n",
      "  [nan nan nan nan nan nan]\n",
      "  ...\n",
      "  [nan nan nan nan nan nan]\n",
      "  [nan nan nan nan nan nan]\n",
      "  [nan nan nan nan nan nan]]\n",
      "\n",
      " [[nan nan nan nan nan nan]\n",
      "  [nan nan nan nan nan nan]\n",
      "  [nan nan nan nan nan nan]\n",
      "  ...\n",
      "  [nan nan nan nan nan nan]\n",
      "  [nan nan nan nan nan nan]\n",
      "  [nan nan nan nan nan nan]]\n",
      "\n",
      " [[nan nan nan nan nan nan]\n",
      "  [nan nan nan nan nan nan]\n",
      "  [nan nan nan nan nan nan]\n",
      "  ...\n",
      "  [nan nan nan nan nan nan]\n",
      "  [nan nan nan nan nan nan]\n",
      "  [nan nan nan nan nan nan]]\n",
      "\n",
      " ...\n",
      "\n",
      " [[nan nan nan nan nan nan]\n",
      "  [nan nan nan nan nan nan]\n",
      "  [nan nan nan nan nan nan]\n",
      "  ...\n",
      "  [nan nan nan nan nan nan]\n",
      "  [nan nan nan nan nan nan]\n",
      "  [nan nan nan nan nan nan]]\n",
      "\n",
      " [[nan nan nan nan nan nan]\n",
      "  [nan nan nan nan nan nan]\n",
      "  [nan nan nan nan nan nan]\n",
      "  ...\n",
      "  [nan nan nan nan nan nan]\n",
      "  [nan nan nan nan nan nan]\n",
      "  [nan nan nan nan nan nan]]\n",
      "\n",
      " [[nan nan nan nan nan nan]\n",
      "  [nan nan nan nan nan nan]\n",
      "  [nan nan nan nan nan nan]\n",
      "  ...\n",
      "  [nan nan nan nan nan nan]\n",
      "  [nan nan nan nan nan nan]\n",
      "  [nan nan nan nan nan nan]]]\n"
     ]
    }
   ],
   "source": [
    "sample = read_mat_data('../data/woTBR/s1.mat')\n",
    "\n",
    "fig, axs = plt.subplots(1, 6, figsize=(10, 5))\n",
    "for i in range(6):\n",
    "    axs[i].imshow(sample['fluorescence'][:, :, i], cmap='hot', interpolation='nearest')\n",
    "    axs[i].axis('off')\n",
    "plt.show()\n",
    "\n",
    "print(sample['fluorescence'])"
   ]
  }
 ],
 "metadata": {
  "kernelspec": {
   "display_name": "gtx_tf",
   "language": "python",
   "name": "python3"
  },
  "language_info": {
   "codemirror_mode": {
    "name": "ipython",
    "version": 3
   },
   "file_extension": ".py",
   "mimetype": "text/x-python",
   "name": "python",
   "nbconvert_exporter": "python",
   "pygments_lexer": "ipython3",
   "version": "3.10.16"
  }
 },
 "nbformat": 4,
 "nbformat_minor": 5
}
