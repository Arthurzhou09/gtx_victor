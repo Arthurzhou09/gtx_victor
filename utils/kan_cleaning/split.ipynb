{
 "cells": [
  {
   "cell_type": "code",
   "execution_count": 1,
   "id": "5d797152",
   "metadata": {},
   "outputs": [],
   "source": [
    "import numpy as np\n",
    "import mat73\n",
    "import scipy.io as sio\n",
    "\n",
    "import os\n",
    "os.chdir('/home/victorhuang/projects/gtx/')"
   ]
  },
  {
   "cell_type": "code",
   "execution_count": 2,
   "id": "032f788d",
   "metadata": {},
   "outputs": [],
   "source": [
    "def split_indices(n_samples, val_size=0.1, test_size=0.1, random_state=1024):\n",
    "    all_idx = np.arange(n_samples)\n",
    "    np.random.seed(random_state)\n",
    "    np.random.shuffle(all_idx)\n",
    "\n",
    "    n_val = int(n_samples * val_size)\n",
    "    n_test = int(n_samples * test_size)\n",
    "    n_train = n_samples - n_val - n_test\n",
    "\n",
    "    train_idx = all_idx[:n_train]\n",
    "    val_idx = all_idx[n_train:n_train + n_val]\n",
    "    test_idx = all_idx[n_train + n_val:]\n",
    "    \n",
    "    return train_idx, val_idx, test_idx"
   ]
  },
  {
   "cell_type": "code",
   "execution_count": 3,
   "id": "6c97ed42",
   "metadata": {},
   "outputs": [
    {
     "name": "stdout",
     "output_type": "stream",
     "text": [
      "Saved split data to data/kan/small_shallow_1000_split.mat\n",
      "Saved split data to data/kan/small_deep_1000_split.mat\n",
      "Saved split data to data/kan/large_shallow_1000_split.mat\n",
      "Saved split data to data/kan/large_deep_1000_split.mat\n"
     ]
    }
   ],
   "source": [
    "def split_save(file_path, save_path):\n",
    "    data = mat73.loadmat(file_path)\n",
    "    fluorescence = data['F']    \n",
    "    reflectance = data['RE']  \n",
    "    depth = data['DF']          \n",
    "    optical_props = data['OP']  \n",
    "    concentration_fluor = data['QF']  \n",
    "\n",
    "    n_samples = data['F'].shape[0]\n",
    "    train_idx, val_idx, test_idx = split_indices(n_samples)\n",
    "\n",
    "    split_data = {\n",
    "        'train_fluorescence': fluorescence[train_idx],\n",
    "        'val_fluorescence': fluorescence[val_idx],\n",
    "        'test_fluorescence': fluorescence[test_idx],\n",
    "\n",
    "        'train_optical_props': optical_props[train_idx],\n",
    "        'val_optical_props': optical_props[val_idx],\n",
    "        'test_optical_props': optical_props[test_idx],\n",
    "\n",
    "        'train_reflectance': reflectance[train_idx],\n",
    "        'val_reflectance': reflectance[val_idx],\n",
    "        'test_reflectance': reflectance[test_idx],\n",
    "\n",
    "        'train_depth': depth[train_idx],\n",
    "        'val_depth': depth[val_idx],\n",
    "        'test_depth': depth[test_idx],\n",
    "\n",
    "        'train_concentration_fluor': concentration_fluor[train_idx],\n",
    "        'val_concentration_fluor': concentration_fluor[val_idx],\n",
    "        'test_concentration_fluor': concentration_fluor[test_idx],\n",
    "    }\n",
    "\n",
    "    sio.savemat(save_path, split_data)\n",
    "    print(f\"Saved split data to {save_path}\")\n",
    "\n",
    "split_save('data/kan/small_shallow_1000.mat', 'data/kan/small_shallow_1000_split.mat')\n",
    "split_save('data/kan/small_deep_1000.mat', 'data/kan/small_deep_1000_split.mat')\n",
    "split_save('data/kan/large_shallow_1000.mat', 'data/kan/large_shallow_1000_split.mat')\n",
    "split_save('data/kan/large_deep_1000.mat', 'data/kan/large_deep_1000_split.mat')"
   ]
  }
 ],
 "metadata": {
  "kernelspec": {
   "display_name": "gtx_tf",
   "language": "python",
   "name": "python3"
  },
  "language_info": {
   "codemirror_mode": {
    "name": "ipython",
    "version": 3
   },
   "file_extension": ".py",
   "mimetype": "text/x-python",
   "name": "python",
   "nbconvert_exporter": "python",
   "pygments_lexer": "ipython3",
   "version": "3.10.16"
  }
 },
 "nbformat": 4,
 "nbformat_minor": 5
}
