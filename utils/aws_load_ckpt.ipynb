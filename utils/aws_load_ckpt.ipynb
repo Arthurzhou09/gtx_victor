{
 "cells": [
  {
   "cell_type": "code",
   "execution_count": 9,
   "metadata": {},
   "outputs": [],
   "source": [
    "import boto3\n",
    "import os\n",
    "import tarfile\n"
   ]
  },
  {
   "cell_type": "code",
   "execution_count": null,
   "metadata": {},
   "outputs": [
    {
     "name": "stdout",
     "output_type": "stream",
     "text": [
      "tf-model-output-20250522-144135\n",
      "File downloaded to ../code_tf/sagemaker_ckpts/tf-model-output-20250522-144135/model.tar.gz\n",
      "File extracted to ../code_tf/sagemaker_ckpts/tf-model-output-20250522-144135/model.tar.gz\n",
      "Deleted ../code_tf/sagemaker_ckpts/tf-model-output-20250522-144135/model.tar.gz\n"
     ]
    }
   ],
   "source": [
    "def load_ckpt(bucket, key, local_path=None, tf_model=False):\n",
    "    temp_key = key.split('/')\n",
    "    output_name  = temp_key[1]\n",
    "\n",
    "    if local_path is None and tf_model:\n",
    "        os.makedirs('../code_tf/sagemaker_ckpts/{}'.format(output_name), exist_ok=True)\n",
    "        local_path = os.path.join('../code_tf/sagemaker_ckpts/{}'.format(output_name), os.path.basename(key))\n",
    "    elif local_path is None and not tf_model:\n",
    "        os.makedirs('../code_py/sagemaker_ckpts/{}'.format(output_name), exist_ok=True)\n",
    "        local_path = os.path.join('../code_py/sagemaker_ckpts/{}'.format(output_name), os.path.basename(key))\n",
    "\n",
    "    s3 = boto3.client('s3')\n",
    "    s3.download_file(Bucket=bucket, Key=key, Filename=local_path)\n",
    "\n",
    "    print(\"File downloaded to {}\".format(local_path))\n",
    "\n",
    "    with tarfile.open(local_path, 'r:gz') as tar:\n",
    "        tar.extractall(path='../code_tf/sagemaker_ckpts/{}'.format(output_name))\n",
    "\n",
    "    print(\"File extracted to {}\".format(local_path))\n",
    "\n",
    "    if os.path.exists(local_path):\n",
    "        os.remove(local_path)\n",
    "        print(f\"Deleted {local_path}\")\n",
    "    else:\n",
    "        print(f\"{local_path} does not exist\")\n",
    "\n",
    "\n",
    "load_ckpt('20250509-victor', 'tf_model_output/tf-model-output-20250522-144135/output/model.tar.gz', tf_model=True)\n",
    "\n",
    "    "
   ]
  }
 ],
 "metadata": {
  "kernelspec": {
   "display_name": "gtx_tf",
   "language": "python",
   "name": "python3"
  },
  "language_info": {
   "codemirror_mode": {
    "name": "ipython",
    "version": 3
   },
   "file_extension": ".py",
   "mimetype": "text/x-python",
   "name": "python",
   "nbconvert_exporter": "python",
   "pygments_lexer": "ipython3",
   "version": "3.10.13"
  }
 },
 "nbformat": 4,
 "nbformat_minor": 2
}
