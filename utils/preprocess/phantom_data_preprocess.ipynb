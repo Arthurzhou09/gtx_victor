{
 "cells": [
  {
   "cell_type": "code",
   "execution_count": 1,
   "metadata": {},
   "outputs": [],
   "source": [
    "import os\n",
    "import mat73\n",
    "import pandas as pd\n",
    "from tqdm import tqdm\n",
    "import numpy as np\n"
   ]
  },
  {
   "cell_type": "code",
   "execution_count": 2,
   "metadata": {},
   "outputs": [],
   "source": [
    "def normalization(fluorescence, optical_props):\n",
    "    f = (fluorescence - np.mean(fluorescence, axis=(1,2,3), keepdims=True)) / \\\n",
    "                   (np.std(fluorescence, axis=(1,2,3), keepdims=True) + 1e-6)\n",
    "    mu_a = optical_props[..., 0]\n",
    "    mu_s = optical_props[..., 1]\n",
    "\n",
    "    mu_a_mean = np.mean(mu_a, axis=(1,2), keepdims=True)\n",
    "    mu_a_std = np.std(mu_a, axis=(1,2), keepdims=True)\n",
    "    mu_a_norm = (mu_a - mu_a_mean) / (mu_a_std + 1e-6)\n",
    "\n",
    "    mu_s_mean = np.mean(mu_s, axis=(1,2), keepdims=True)\n",
    "    mu_s_std = np.std(mu_s, axis=(1,2), keepdims=True)\n",
    "    mu_s_norm = (mu_s - mu_s_mean) / (mu_s_std + 1e-6)\n",
    "    return f, mu_a_norm, mu_s_norm\n"
   ]
  },
  {
   "cell_type": "code",
   "execution_count": 3,
   "metadata": {},
   "outputs": [],
   "source": [
    "def scale_data(data_dict, params):\n",
    "    scaled_data_dict = {}\n",
    "    for key, items in data_dict.items():\n",
    "        scaled_data_dict[key] = items * params[key]\n",
    "    return scaled_data_dict"
   ]
  },
  {
   "cell_type": "code",
   "execution_count": 4,
   "metadata": {},
   "outputs": [],
   "source": [
    "def read_data(path, params):\n",
    "    data = mat73.loadmat(path)\n",
    "\n",
    "    fluorescence = data['F']\n",
    "    optical_props = data['OP']\n",
    "    reflectance = data['RE']\n",
    "    depth = data['DF']\n",
    "    concentration = data['QF']\n",
    "\n",
    "    norm_fluorescence, norm_mu_a, norm_mu_s = normalization(fluorescence, optical_props)\n",
    "    scaled_data_dict = scale_data({\n",
    "        'fluorescence': norm_fluorescence,\n",
    "        'mu_a': norm_mu_a,\n",
    "        'mu_s': norm_mu_s,\n",
    "        'reflectance': reflectance,\n",
    "        'depth': depth,\n",
    "        'concentration': concentration\n",
    "    }, params)\n",
    "\n",
    "    scaled_data_dict['fluorescence'] = scaled_data_dict['fluorescence'].transpose(0, 3, 1, 2)\n",
    "    op = np.stack([scaled_data_dict['mu_a'], scaled_data_dict['mu_s']], axis=1)\n",
    "    scaled_data_dict['op'] = op\n",
    "    scaled_data_dict['reflectance'] = scaled_data_dict['reflectance'].transpose(0, 3, 1, 2)\n",
    "    scaled_data_dict['depth'] = scaled_data_dict['depth']\n",
    "    scaled_data_dict['concentration'] = scaled_data_dict['concentration']\n",
    "    del scaled_data_dict['mu_a']\n",
    "    del scaled_data_dict['mu_s']\n",
    "\n",
    "    return scaled_data_dict\n"
   ]
  },
  {
   "cell_type": "code",
   "execution_count": 5,
   "metadata": {},
   "outputs": [],
   "source": [
    "scale_params = {\n",
    "    'fluorescence': 10e4,\n",
    "    'mu_a': 10,\n",
    "    'mu_s': 1,\n",
    "    'reflectance': 1,\n",
    "    'depth': 1,\n",
    "    'concentration': 1\n",
    "}\n",
    "path = '/home/victorhuang/projects/gtx/data/phantom_data.mat'\n",
    "results = read_data(path, scale_params)"
   ]
  }
 ],
 "metadata": {
  "kernelspec": {
   "display_name": "gtx_py",
   "language": "python",
   "name": "python3"
  },
  "language_info": {
   "codemirror_mode": {
    "name": "ipython",
    "version": 3
   },
   "file_extension": ".py",
   "mimetype": "text/x-python",
   "name": "python",
   "nbconvert_exporter": "python",
   "pygments_lexer": "ipython3",
   "version": "3.10.16"
  }
 },
 "nbformat": 4,
 "nbformat_minor": 2
}
